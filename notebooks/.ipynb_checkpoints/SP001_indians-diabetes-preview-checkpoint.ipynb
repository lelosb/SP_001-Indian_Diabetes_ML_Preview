{
 "cells": [
  {
   "cell_type": "markdown",
   "id": "18251be0",
   "metadata": {
    "ExecuteTime": {
     "end_time": "2021-09-08T19:33:16.094731Z",
     "start_time": "2021-09-08T19:33:16.084724Z"
    }
   },
   "source": [
    "# SP_001 - Indian Diabetes Preview"
   ]
  },
  {
   "cell_type": "markdown",
   "id": "c35b2060",
   "metadata": {},
   "source": [
    "# Basic Setups"
   ]
  },
  {
   "cell_type": "markdown",
   "id": "38fa69de",
   "metadata": {
    "ExecuteTime": {
     "end_time": "2021-09-08T19:33:48.465338Z",
     "start_time": "2021-09-08T19:33:48.461348Z"
    }
   },
   "source": [
    "## Imports"
   ]
  },
  {
   "cell_type": "code",
   "execution_count": 1,
   "id": "2fd0f417",
   "metadata": {
    "ExecuteTime": {
     "end_time": "2021-09-08T22:26:26.813669Z",
     "start_time": "2021-09-08T22:26:25.647957Z"
    }
   },
   "outputs": [],
   "source": [
    "import pandas as pd\n",
    "import matplotlib.pyplot as plt\n",
    "import numpy as np\n",
    "from IPython.core.display     import HTML\n",
    "import seaborn as sns\n",
    "import pickle\n",
    "%matplotlib inline \n",
    "# para criar os gráficos dentro do notebook\n",
    "from sklearn.model_selection import train_test_split\n",
    "from sklearn.naive_bayes import GaussianNB\n",
    "from sklearn import metrics\n",
    "from sklearn.ensemble import RandomForestClassifier\n",
    "from sklearn.linear_model import LogisticRegression\n",
    "from sklearn.impute import SimpleImputer"
   ]
  },
  {
   "cell_type": "markdown",
   "id": "f00bddda",
   "metadata": {},
   "source": [
    "## Helping functions"
   ]
  },
  {
   "cell_type": "code",
   "execution_count": 2,
   "id": "29f33722",
   "metadata": {
    "ExecuteTime": {
     "end_time": "2021-09-08T22:26:26.844623Z",
     "start_time": "2021-09-08T22:26:26.814671Z"
    }
   },
   "outputs": [
    {
     "name": "stdout",
     "output_type": "stream",
     "text": [
      "Populating the interactive namespace from numpy and matplotlib\n"
     ]
    },
    {
     "data": {
      "text/html": [
       "<style>.container { width:100% !important; }</style>"
      ],
      "text/plain": [
       "<IPython.core.display.HTML object>"
      ]
     },
     "metadata": {},
     "output_type": "display_data"
    }
   ],
   "source": [
    "#jupyter notebook settings\n",
    "def jupyter_settings():\n",
    "    %matplotlib inline\n",
    "    %pylab inline\n",
    "    plt.style.use( 'bmh' )\n",
    "    plt.rcParams['figure.figsize'] = [25, 12]\n",
    "    plt.rcParams['font.size'] = 24\n",
    "    display( HTML( '<style>.container { width:100% !important; }</style>') )\n",
    "    pd.options.display.max_columns = None\n",
    "    pd.options.display.max_rows = None\n",
    "    pd.set_option( 'display.expand_frame_repr', False )\n",
    "    sns.set()\n",
    "jupyter_settings()\n",
    "\n",
    "# Supress Scientific Notation\n",
    "np.set_printoptions(suppress=True)\n",
    "pd.set_option('display.float_format', '{:.2f}'.format)"
   ]
  },
  {
   "cell_type": "markdown",
   "id": "9898a1e1",
   "metadata": {
    "ExecuteTime": {
     "end_time": "2021-09-07T21:35:10.044447Z",
     "start_time": "2021-09-07T21:35:10.031482Z"
    }
   },
   "source": [
    "# Data overview"
   ]
  },
  {
   "cell_type": "markdown",
   "id": "9dc3ff15",
   "metadata": {
    "ExecuteTime": {
     "end_time": "2021-09-07T21:25:29.419605Z",
     "start_time": "2021-09-07T21:25:29.415621Z"
    }
   },
   "source": [
    "## Data Load"
   ]
  },
  {
   "cell_type": "code",
   "execution_count": 3,
   "id": "5d6e97bd",
   "metadata": {
    "ExecuteTime": {
     "end_time": "2021-09-08T22:26:26.859550Z",
     "start_time": "2021-09-08T22:26:26.846585Z"
    }
   },
   "outputs": [],
   "source": [
    "df_raw = pd.read_csv(r'../data/raw/diabetes.csv')"
   ]
  },
  {
   "cell_type": "code",
   "execution_count": 4,
   "id": "e72d8530",
   "metadata": {
    "ExecuteTime": {
     "end_time": "2021-09-08T22:26:26.890469Z",
     "start_time": "2021-09-08T22:26:26.863544Z"
    }
   },
   "outputs": [
    {
     "data": {
      "text/html": [
       "<div>\n",
       "<style scoped>\n",
       "    .dataframe tbody tr th:only-of-type {\n",
       "        vertical-align: middle;\n",
       "    }\n",
       "\n",
       "    .dataframe tbody tr th {\n",
       "        vertical-align: top;\n",
       "    }\n",
       "\n",
       "    .dataframe thead th {\n",
       "        text-align: right;\n",
       "    }\n",
       "</style>\n",
       "<table border=\"1\" class=\"dataframe\">\n",
       "  <thead>\n",
       "    <tr style=\"text-align: right;\">\n",
       "      <th></th>\n",
       "      <th>Pregnancies</th>\n",
       "      <th>Glucose</th>\n",
       "      <th>BloodPressure</th>\n",
       "      <th>SkinThickness</th>\n",
       "      <th>Insulin</th>\n",
       "      <th>BMI</th>\n",
       "      <th>DiabetesPedigreeFunction</th>\n",
       "      <th>Age</th>\n",
       "      <th>Outcome</th>\n",
       "    </tr>\n",
       "  </thead>\n",
       "  <tbody>\n",
       "    <tr>\n",
       "      <th>0</th>\n",
       "      <td>6</td>\n",
       "      <td>148</td>\n",
       "      <td>72</td>\n",
       "      <td>35</td>\n",
       "      <td>0</td>\n",
       "      <td>33.60</td>\n",
       "      <td>0.63</td>\n",
       "      <td>50</td>\n",
       "      <td>1</td>\n",
       "    </tr>\n",
       "    <tr>\n",
       "      <th>1</th>\n",
       "      <td>1</td>\n",
       "      <td>85</td>\n",
       "      <td>66</td>\n",
       "      <td>29</td>\n",
       "      <td>0</td>\n",
       "      <td>26.60</td>\n",
       "      <td>0.35</td>\n",
       "      <td>31</td>\n",
       "      <td>0</td>\n",
       "    </tr>\n",
       "    <tr>\n",
       "      <th>2</th>\n",
       "      <td>8</td>\n",
       "      <td>183</td>\n",
       "      <td>64</td>\n",
       "      <td>0</td>\n",
       "      <td>0</td>\n",
       "      <td>23.30</td>\n",
       "      <td>0.67</td>\n",
       "      <td>32</td>\n",
       "      <td>1</td>\n",
       "    </tr>\n",
       "    <tr>\n",
       "      <th>3</th>\n",
       "      <td>1</td>\n",
       "      <td>89</td>\n",
       "      <td>66</td>\n",
       "      <td>23</td>\n",
       "      <td>94</td>\n",
       "      <td>28.10</td>\n",
       "      <td>0.17</td>\n",
       "      <td>21</td>\n",
       "      <td>0</td>\n",
       "    </tr>\n",
       "    <tr>\n",
       "      <th>4</th>\n",
       "      <td>0</td>\n",
       "      <td>137</td>\n",
       "      <td>40</td>\n",
       "      <td>35</td>\n",
       "      <td>168</td>\n",
       "      <td>43.10</td>\n",
       "      <td>2.29</td>\n",
       "      <td>33</td>\n",
       "      <td>1</td>\n",
       "    </tr>\n",
       "  </tbody>\n",
       "</table>\n",
       "</div>"
      ],
      "text/plain": [
       "   Pregnancies  Glucose  BloodPressure  SkinThickness  Insulin   BMI  DiabetesPedigreeFunction  Age  Outcome\n",
       "0            6      148             72             35        0 33.60                      0.63   50        1\n",
       "1            1       85             66             29        0 26.60                      0.35   31        0\n",
       "2            8      183             64              0        0 23.30                      0.67   32        1\n",
       "3            1       89             66             23       94 28.10                      0.17   21        0\n",
       "4            0      137             40             35      168 43.10                      2.29   33        1"
      ]
     },
     "execution_count": 4,
     "metadata": {},
     "output_type": "execute_result"
    }
   ],
   "source": [
    "df_raw.head()"
   ]
  },
  {
   "cell_type": "code",
   "execution_count": 5,
   "id": "6ed613a4",
   "metadata": {
    "ExecuteTime": {
     "end_time": "2021-09-08T22:26:26.921385Z",
     "start_time": "2021-09-08T22:26:26.892462Z"
    }
   },
   "outputs": [
    {
     "data": {
      "text/html": [
       "<div>\n",
       "<style scoped>\n",
       "    .dataframe tbody tr th:only-of-type {\n",
       "        vertical-align: middle;\n",
       "    }\n",
       "\n",
       "    .dataframe tbody tr th {\n",
       "        vertical-align: top;\n",
       "    }\n",
       "\n",
       "    .dataframe thead th {\n",
       "        text-align: right;\n",
       "    }\n",
       "</style>\n",
       "<table border=\"1\" class=\"dataframe\">\n",
       "  <thead>\n",
       "    <tr style=\"text-align: right;\">\n",
       "      <th></th>\n",
       "      <th>count</th>\n",
       "      <th>mean</th>\n",
       "      <th>std</th>\n",
       "      <th>min</th>\n",
       "      <th>25%</th>\n",
       "      <th>50%</th>\n",
       "      <th>75%</th>\n",
       "      <th>max</th>\n",
       "    </tr>\n",
       "  </thead>\n",
       "  <tbody>\n",
       "    <tr>\n",
       "      <th>Pregnancies</th>\n",
       "      <td>768.00</td>\n",
       "      <td>3.85</td>\n",
       "      <td>3.37</td>\n",
       "      <td>0.00</td>\n",
       "      <td>1.00</td>\n",
       "      <td>3.00</td>\n",
       "      <td>6.00</td>\n",
       "      <td>17.00</td>\n",
       "    </tr>\n",
       "    <tr>\n",
       "      <th>Glucose</th>\n",
       "      <td>768.00</td>\n",
       "      <td>120.89</td>\n",
       "      <td>31.97</td>\n",
       "      <td>0.00</td>\n",
       "      <td>99.00</td>\n",
       "      <td>117.00</td>\n",
       "      <td>140.25</td>\n",
       "      <td>199.00</td>\n",
       "    </tr>\n",
       "    <tr>\n",
       "      <th>BloodPressure</th>\n",
       "      <td>768.00</td>\n",
       "      <td>69.11</td>\n",
       "      <td>19.36</td>\n",
       "      <td>0.00</td>\n",
       "      <td>62.00</td>\n",
       "      <td>72.00</td>\n",
       "      <td>80.00</td>\n",
       "      <td>122.00</td>\n",
       "    </tr>\n",
       "    <tr>\n",
       "      <th>SkinThickness</th>\n",
       "      <td>768.00</td>\n",
       "      <td>20.54</td>\n",
       "      <td>15.95</td>\n",
       "      <td>0.00</td>\n",
       "      <td>0.00</td>\n",
       "      <td>23.00</td>\n",
       "      <td>32.00</td>\n",
       "      <td>99.00</td>\n",
       "    </tr>\n",
       "    <tr>\n",
       "      <th>Insulin</th>\n",
       "      <td>768.00</td>\n",
       "      <td>79.80</td>\n",
       "      <td>115.24</td>\n",
       "      <td>0.00</td>\n",
       "      <td>0.00</td>\n",
       "      <td>30.50</td>\n",
       "      <td>127.25</td>\n",
       "      <td>846.00</td>\n",
       "    </tr>\n",
       "    <tr>\n",
       "      <th>BMI</th>\n",
       "      <td>768.00</td>\n",
       "      <td>31.99</td>\n",
       "      <td>7.88</td>\n",
       "      <td>0.00</td>\n",
       "      <td>27.30</td>\n",
       "      <td>32.00</td>\n",
       "      <td>36.60</td>\n",
       "      <td>67.10</td>\n",
       "    </tr>\n",
       "    <tr>\n",
       "      <th>DiabetesPedigreeFunction</th>\n",
       "      <td>768.00</td>\n",
       "      <td>0.47</td>\n",
       "      <td>0.33</td>\n",
       "      <td>0.08</td>\n",
       "      <td>0.24</td>\n",
       "      <td>0.37</td>\n",
       "      <td>0.63</td>\n",
       "      <td>2.42</td>\n",
       "    </tr>\n",
       "    <tr>\n",
       "      <th>Age</th>\n",
       "      <td>768.00</td>\n",
       "      <td>33.24</td>\n",
       "      <td>11.76</td>\n",
       "      <td>21.00</td>\n",
       "      <td>24.00</td>\n",
       "      <td>29.00</td>\n",
       "      <td>41.00</td>\n",
       "      <td>81.00</td>\n",
       "    </tr>\n",
       "    <tr>\n",
       "      <th>Outcome</th>\n",
       "      <td>768.00</td>\n",
       "      <td>0.35</td>\n",
       "      <td>0.48</td>\n",
       "      <td>0.00</td>\n",
       "      <td>0.00</td>\n",
       "      <td>0.00</td>\n",
       "      <td>1.00</td>\n",
       "      <td>1.00</td>\n",
       "    </tr>\n",
       "  </tbody>\n",
       "</table>\n",
       "</div>"
      ],
      "text/plain": [
       "                          count   mean    std   min   25%    50%    75%    max\n",
       "Pregnancies              768.00   3.85   3.37  0.00  1.00   3.00   6.00  17.00\n",
       "Glucose                  768.00 120.89  31.97  0.00 99.00 117.00 140.25 199.00\n",
       "BloodPressure            768.00  69.11  19.36  0.00 62.00  72.00  80.00 122.00\n",
       "SkinThickness            768.00  20.54  15.95  0.00  0.00  23.00  32.00  99.00\n",
       "Insulin                  768.00  79.80 115.24  0.00  0.00  30.50 127.25 846.00\n",
       "BMI                      768.00  31.99   7.88  0.00 27.30  32.00  36.60  67.10\n",
       "DiabetesPedigreeFunction 768.00   0.47   0.33  0.08  0.24   0.37   0.63   2.42\n",
       "Age                      768.00  33.24  11.76 21.00 24.00  29.00  41.00  81.00\n",
       "Outcome                  768.00   0.35   0.48  0.00  0.00   0.00   1.00   1.00"
      ]
     },
     "execution_count": 5,
     "metadata": {},
     "output_type": "execute_result"
    }
   ],
   "source": [
    "df_raw.describe().T"
   ]
  },
  {
   "cell_type": "markdown",
   "id": "c1c16435",
   "metadata": {
    "ExecuteTime": {
     "end_time": "2021-09-08T19:35:37.616827Z",
     "start_time": "2021-09-08T19:35:37.607852Z"
    }
   },
   "source": [
    "Task\n",
    "1) Change the columns names"
   ]
  },
  {
   "cell_type": "markdown",
   "id": "98b43e2d",
   "metadata": {
    "ExecuteTime": {
     "end_time": "2021-09-05T16:32:46.736339Z",
     "start_time": "2021-09-05T16:32:46.736339Z"
    }
   },
   "source": [
    "## Check NaN"
   ]
  },
  {
   "cell_type": "code",
   "execution_count": 6,
   "id": "776c468d",
   "metadata": {
    "ExecuteTime": {
     "end_time": "2021-09-08T22:26:26.936345Z",
     "start_time": "2021-09-08T22:26:26.923412Z"
    }
   },
   "outputs": [
    {
     "data": {
      "text/plain": [
       "Pregnancies                 0\n",
       "Glucose                     0\n",
       "BloodPressure               0\n",
       "SkinThickness               0\n",
       "Insulin                     0\n",
       "BMI                         0\n",
       "DiabetesPedigreeFunction    0\n",
       "Age                         0\n",
       "Outcome                     0\n",
       "dtype: int64"
      ]
     },
     "execution_count": 6,
     "metadata": {},
     "output_type": "execute_result"
    }
   ],
   "source": [
    "df_raw.isnull().sum()"
   ]
  },
  {
   "cell_type": "markdown",
   "id": "92683832",
   "metadata": {
    "ExecuteTime": {
     "end_time": "2021-09-07T18:02:45.358165Z",
     "start_time": "2021-09-07T18:02:45.350188Z"
    }
   },
   "source": [
    "## Check data types"
   ]
  },
  {
   "cell_type": "code",
   "execution_count": 7,
   "id": "ba93d9cf",
   "metadata": {
    "ExecuteTime": {
     "end_time": "2021-09-08T22:26:26.951305Z",
     "start_time": "2021-09-08T22:26:26.937342Z"
    }
   },
   "outputs": [
    {
     "data": {
      "text/plain": [
       "Pregnancies                   int64\n",
       "Glucose                       int64\n",
       "BloodPressure                 int64\n",
       "SkinThickness                 int64\n",
       "Insulin                       int64\n",
       "BMI                         float64\n",
       "DiabetesPedigreeFunction    float64\n",
       "Age                           int64\n",
       "Outcome                       int64\n",
       "dtype: object"
      ]
     },
     "execution_count": 7,
     "metadata": {},
     "output_type": "execute_result"
    }
   ],
   "source": [
    "df_raw.dtypes"
   ]
  },
  {
   "cell_type": "markdown",
   "id": "601bbef3",
   "metadata": {
    "ExecuteTime": {
     "end_time": "2021-09-07T19:58:43.343761Z",
     "start_time": "2021-09-07T19:58:43.328802Z"
    }
   },
   "source": [
    "## Check attributes"
   ]
  },
  {
   "cell_type": "markdown",
   "id": "aad15885",
   "metadata": {
    "ExecuteTime": {
     "end_time": "2021-09-07T19:58:43.359720Z",
     "start_time": "2021-09-07T19:58:43.347751Z"
    }
   },
   "source": [
    "### Atributte 'Pregnancies'"
   ]
  },
  {
   "cell_type": "code",
   "execution_count": 8,
   "id": "f28e9927",
   "metadata": {
    "ExecuteTime": {
     "end_time": "2021-09-08T22:26:26.966266Z",
     "start_time": "2021-09-08T22:26:26.953299Z"
    }
   },
   "outputs": [
    {
     "data": {
      "text/plain": [
       "array([ 6,  1,  8,  0,  5,  3, 10,  2,  4,  7,  9, 11, 13, 15, 17, 12, 14],\n",
       "      dtype=int64)"
      ]
     },
     "execution_count": 8,
     "metadata": {},
     "output_type": "execute_result"
    }
   ],
   "source": [
    "# number of times pregnant\n",
    "df_raw['Pregnancies'].unique()"
   ]
  },
  {
   "cell_type": "markdown",
   "id": "becc3abe",
   "metadata": {
    "ExecuteTime": {
     "end_time": "2021-09-07T19:58:43.391691Z",
     "start_time": "2021-09-07T19:58:43.378671Z"
    }
   },
   "source": [
    "### Atributte 'Glucose'"
   ]
  },
  {
   "cell_type": "code",
   "execution_count": 9,
   "id": "0a68ed60",
   "metadata": {
    "ExecuteTime": {
     "end_time": "2021-09-08T22:26:26.982260Z",
     "start_time": "2021-09-08T22:26:26.969258Z"
    }
   },
   "outputs": [
    {
     "data": {
      "text/plain": [
       "array([148,  85, 183,  89, 137, 116,  78, 115, 197, 125, 110, 168, 139,\n",
       "       189, 166, 100, 118, 107, 103, 126,  99, 196, 119, 143, 147,  97,\n",
       "       145, 117, 109, 158,  88,  92, 122, 138, 102,  90, 111, 180, 133,\n",
       "       106, 171, 159, 146,  71, 105, 101, 176, 150,  73, 187,  84,  44,\n",
       "       141, 114,  95, 129,  79,   0,  62, 131, 112, 113,  74,  83, 136,\n",
       "        80, 123,  81, 134, 142, 144,  93, 163, 151,  96, 155,  76, 160,\n",
       "       124, 162, 132, 120, 173, 170, 128, 108, 154,  57, 156, 153, 188,\n",
       "       152, 104,  87,  75, 179, 130, 194, 181, 135, 184, 140, 177, 164,\n",
       "        91, 165,  86, 193, 191, 161, 167,  77, 182, 157, 178,  61,  98,\n",
       "       127,  82,  72, 172,  94, 175, 195,  68, 186, 198, 121,  67, 174,\n",
       "       199,  56, 169, 149,  65, 190], dtype=int64)"
      ]
     },
     "execution_count": 9,
     "metadata": {},
     "output_type": "execute_result"
    }
   ],
   "source": [
    "#plasma glucose concentration\n",
    "df_raw['Glucose'].unique()"
   ]
  },
  {
   "cell_type": "code",
   "execution_count": 10,
   "id": "81b298db",
   "metadata": {
    "ExecuteTime": {
     "end_time": "2021-09-08T22:26:26.997217Z",
     "start_time": "2021-09-08T22:26:26.983221Z"
    }
   },
   "outputs": [
    {
     "data": {
      "text/plain": [
       "5"
      ]
     },
     "execution_count": 10,
     "metadata": {},
     "output_type": "execute_result"
    }
   ],
   "source": [
    "df_raw[df_raw['Glucose'] == 0].shape[0]"
   ]
  },
  {
   "cell_type": "markdown",
   "id": "19c77194",
   "metadata": {
    "ExecuteTime": {
     "end_time": "2021-09-07T19:58:43.406685Z",
     "start_time": "2021-09-07T19:58:43.393685Z"
    }
   },
   "source": [
    "### Atributte 'BloodPressure'"
   ]
  },
  {
   "cell_type": "code",
   "execution_count": 11,
   "id": "59547667",
   "metadata": {
    "ExecuteTime": {
     "end_time": "2021-09-08T22:26:27.013139Z",
     "start_time": "2021-09-08T22:26:26.999180Z"
    }
   },
   "outputs": [
    {
     "data": {
      "text/plain": [
       "array([ 72,  66,  64,  40,  74,  50,   0,  70,  96,  92,  80,  60,  84,\n",
       "        30,  88,  90,  94,  76,  82,  75,  58,  78,  68, 110,  56,  62,\n",
       "        85,  86,  48,  44,  65, 108,  55, 122,  54,  52,  98, 104,  95,\n",
       "        46, 102, 100,  61,  24,  38, 106, 114], dtype=int64)"
      ]
     },
     "execution_count": 11,
     "metadata": {},
     "output_type": "execute_result"
    }
   ],
   "source": [
    "df_raw['BloodPressure'].unique()"
   ]
  },
  {
   "cell_type": "code",
   "execution_count": 12,
   "id": "766111e7",
   "metadata": {
    "ExecuteTime": {
     "end_time": "2021-09-08T22:26:27.029097Z",
     "start_time": "2021-09-08T22:26:27.014138Z"
    }
   },
   "outputs": [
    {
     "data": {
      "text/plain": [
       "35"
      ]
     },
     "execution_count": 12,
     "metadata": {},
     "output_type": "execute_result"
    }
   ],
   "source": [
    "df_raw[df_raw['BloodPressure'] == 0].shape[0]"
   ]
  },
  {
   "cell_type": "markdown",
   "id": "bf12a3c1",
   "metadata": {
    "ExecuteTime": {
     "end_time": "2021-09-07T19:58:43.421748Z",
     "start_time": "2021-09-07T19:58:43.408647Z"
    }
   },
   "source": [
    "### Atributte 'SkinThickness'"
   ]
  },
  {
   "cell_type": "code",
   "execution_count": 13,
   "id": "36a534d9",
   "metadata": {
    "ExecuteTime": {
     "end_time": "2021-09-08T22:26:27.045096Z",
     "start_time": "2021-09-08T22:26:27.030094Z"
    }
   },
   "outputs": [
    {
     "data": {
      "text/plain": [
       "array([35, 29,  0, 23, 32, 45, 19, 47, 38, 30, 41, 33, 26, 15, 36, 11, 31,\n",
       "       37, 42, 25, 18, 24, 39, 27, 21, 34, 10, 60, 13, 20, 22, 28, 54, 40,\n",
       "       51, 56, 14, 17, 50, 44, 12, 46, 16,  7, 52, 43, 48,  8, 49, 63, 99],\n",
       "      dtype=int64)"
      ]
     },
     "execution_count": 13,
     "metadata": {},
     "output_type": "execute_result"
    }
   ],
   "source": [
    "df_raw['SkinThickness'].unique()"
   ]
  },
  {
   "cell_type": "code",
   "execution_count": 14,
   "id": "5b6e5dfd",
   "metadata": {
    "ExecuteTime": {
     "end_time": "2021-09-08T22:26:27.061013Z",
     "start_time": "2021-09-08T22:26:27.046086Z"
    }
   },
   "outputs": [
    {
     "data": {
      "text/plain": [
       "227"
      ]
     },
     "execution_count": 14,
     "metadata": {},
     "output_type": "execute_result"
    }
   ],
   "source": [
    "df_raw[df_raw['SkinThickness'] == 0].shape[0]"
   ]
  },
  {
   "cell_type": "markdown",
   "id": "866a4e6f",
   "metadata": {
    "ExecuteTime": {
     "end_time": "2021-09-07T19:58:43.437703Z",
     "start_time": "2021-09-07T19:58:43.426734Z"
    }
   },
   "source": [
    "### Atributte 'Insulin' "
   ]
  },
  {
   "cell_type": "code",
   "execution_count": 15,
   "id": "eeecd36c",
   "metadata": {
    "ExecuteTime": {
     "end_time": "2021-09-08T22:26:27.076968Z",
     "start_time": "2021-09-08T22:26:27.062010Z"
    }
   },
   "outputs": [
    {
     "data": {
      "text/plain": [
       "array([  0,  94, 168,  88, 543, 846, 175, 230,  83,  96, 235, 146, 115,\n",
       "       140, 110, 245,  54, 192, 207,  70, 240,  82,  36,  23, 300, 342,\n",
       "       304, 142, 128,  38, 100,  90, 270,  71, 125, 176,  48,  64, 228,\n",
       "        76, 220,  40, 152,  18, 135, 495,  37,  51,  99, 145, 225,  49,\n",
       "        50,  92, 325,  63, 284, 119, 204, 155, 485,  53, 114, 105, 285,\n",
       "       156,  78, 130,  55,  58, 160, 210, 318,  44, 190, 280,  87, 271,\n",
       "       129, 120, 478,  56,  32, 744, 370,  45, 194, 680, 402, 258, 375,\n",
       "       150,  67,  57, 116, 278, 122, 545,  75,  74, 182, 360, 215, 184,\n",
       "        42, 132, 148, 180, 205,  85, 231,  29,  68,  52, 255, 171,  73,\n",
       "       108,  43, 167, 249, 293,  66, 465,  89, 158,  84,  72,  59,  81,\n",
       "       196, 415, 275, 165, 579, 310,  61, 474, 170, 277,  60,  14,  95,\n",
       "       237, 191, 328, 250, 480, 265, 193,  79,  86, 326, 188, 106,  65,\n",
       "       166, 274,  77, 126, 330, 600, 185,  25,  41, 272, 321, 144,  15,\n",
       "       183,  91,  46, 440, 159, 540, 200, 335, 387,  22, 291, 392, 178,\n",
       "       127, 510,  16, 112], dtype=int64)"
      ]
     },
     "execution_count": 15,
     "metadata": {},
     "output_type": "execute_result"
    }
   ],
   "source": [
    "df_raw['Insulin'].unique()"
   ]
  },
  {
   "cell_type": "markdown",
   "id": "a05662ff",
   "metadata": {
    "ExecuteTime": {
     "end_time": "2021-09-07T19:58:43.453660Z",
     "start_time": "2021-09-07T19:58:43.439700Z"
    }
   },
   "source": [
    "### Atributte'BMI'"
   ]
  },
  {
   "cell_type": "code",
   "execution_count": 16,
   "id": "96db308e",
   "metadata": {
    "ExecuteTime": {
     "end_time": "2021-09-08T22:26:27.092927Z",
     "start_time": "2021-09-08T22:26:27.077966Z"
    }
   },
   "outputs": [
    {
     "data": {
      "text/plain": [
       "array([33.6, 26.6, 23.3, 28.1, 43.1, 25.6, 31. , 35.3, 30.5,  0. , 37.6,\n",
       "       38. , 27.1, 30.1, 25.8, 30. , 45.8, 29.6, 43.3, 34.6, 39.3, 35.4,\n",
       "       39.8, 29. , 36.6, 31.1, 39.4, 23.2, 22.2, 34.1, 36. , 31.6, 24.8,\n",
       "       19.9, 27.6, 24. , 33.2, 32.9, 38.2, 37.1, 34. , 40.2, 22.7, 45.4,\n",
       "       27.4, 42. , 29.7, 28. , 39.1, 19.4, 24.2, 24.4, 33.7, 34.7, 23. ,\n",
       "       37.7, 46.8, 40.5, 41.5, 25. , 25.4, 32.8, 32.5, 42.7, 19.6, 28.9,\n",
       "       28.6, 43.4, 35.1, 32. , 24.7, 32.6, 43.2, 22.4, 29.3, 24.6, 48.8,\n",
       "       32.4, 38.5, 26.5, 19.1, 46.7, 23.8, 33.9, 20.4, 28.7, 49.7, 39. ,\n",
       "       26.1, 22.5, 39.6, 29.5, 34.3, 37.4, 33.3, 31.2, 28.2, 53.2, 34.2,\n",
       "       26.8, 55. , 42.9, 34.5, 27.9, 38.3, 21.1, 33.8, 30.8, 36.9, 39.5,\n",
       "       27.3, 21.9, 40.6, 47.9, 50. , 25.2, 40.9, 37.2, 44.2, 29.9, 31.9,\n",
       "       28.4, 43.5, 32.7, 67.1, 45. , 34.9, 27.7, 35.9, 22.6, 33.1, 30.4,\n",
       "       52.3, 24.3, 22.9, 34.8, 30.9, 40.1, 23.9, 37.5, 35.5, 42.8, 42.6,\n",
       "       41.8, 35.8, 37.8, 28.8, 23.6, 35.7, 36.7, 45.2, 44. , 46.2, 35. ,\n",
       "       43.6, 44.1, 18.4, 29.2, 25.9, 32.1, 36.3, 40. , 25.1, 27.5, 45.6,\n",
       "       27.8, 24.9, 25.3, 37.9, 27. , 26. , 38.7, 20.8, 36.1, 30.7, 32.3,\n",
       "       52.9, 21. , 39.7, 25.5, 26.2, 19.3, 38.1, 23.5, 45.5, 23.1, 39.9,\n",
       "       36.8, 21.8, 41. , 42.2, 34.4, 27.2, 36.5, 29.8, 39.2, 38.4, 36.2,\n",
       "       48.3, 20. , 22.3, 45.7, 23.7, 22.1, 42.1, 42.4, 18.2, 26.4, 45.3,\n",
       "       37. , 24.5, 32.2, 59.4, 21.2, 26.7, 30.2, 46.1, 41.3, 38.8, 35.2,\n",
       "       42.3, 40.7, 46.5, 33.5, 37.3, 30.3, 26.3, 21.7, 36.4, 28.5, 26.9,\n",
       "       38.6, 31.3, 19.5, 20.1, 40.8, 23.4, 28.3, 38.9, 57.3, 35.6, 49.6,\n",
       "       44.6, 24.1, 44.5, 41.2, 49.3, 46.3])"
      ]
     },
     "execution_count": 16,
     "metadata": {},
     "output_type": "execute_result"
    }
   ],
   "source": [
    "df_raw['BMI'].unique()"
   ]
  },
  {
   "cell_type": "code",
   "execution_count": 17,
   "id": "87964f7a",
   "metadata": {
    "ExecuteTime": {
     "end_time": "2021-09-08T22:26:27.108909Z",
     "start_time": "2021-09-08T22:26:27.095919Z"
    }
   },
   "outputs": [
    {
     "data": {
      "text/plain": [
       "11"
      ]
     },
     "execution_count": 17,
     "metadata": {},
     "output_type": "execute_result"
    }
   ],
   "source": [
    "df_raw[df_raw['BMI'] == 0 ].shape[0]"
   ]
  },
  {
   "cell_type": "markdown",
   "id": "da30b977",
   "metadata": {
    "ExecuteTime": {
     "end_time": "2021-09-07T19:58:43.469649Z",
     "start_time": "2021-09-07T19:58:43.455657Z"
    }
   },
   "source": [
    "### Atributte 'DiabetesPedigreeFunction'"
   ]
  },
  {
   "cell_type": "code",
   "execution_count": 18,
   "id": "97aacb91",
   "metadata": {
    "ExecuteTime": {
     "end_time": "2021-09-08T22:26:27.124867Z",
     "start_time": "2021-09-08T22:26:27.109926Z"
    }
   },
   "outputs": [
    {
     "data": {
      "text/plain": [
       "array([0.627, 0.351, 0.672, 0.167, 2.288, 0.201, 0.248, 0.134, 0.158,\n",
       "       0.232, 0.191, 0.537, 1.441, 0.398, 0.587, 0.484, 0.551, 0.254,\n",
       "       0.183, 0.529, 0.704, 0.388, 0.451, 0.263, 0.205, 0.257, 0.487,\n",
       "       0.245, 0.337, 0.546, 0.851, 0.267, 0.188, 0.512, 0.966, 0.42 ,\n",
       "       0.665, 0.503, 1.39 , 0.271, 0.696, 0.235, 0.721, 0.294, 1.893,\n",
       "       0.564, 0.586, 0.344, 0.305, 0.491, 0.526, 0.342, 0.467, 0.718,\n",
       "       0.962, 1.781, 0.173, 0.304, 0.27 , 0.699, 0.258, 0.203, 0.855,\n",
       "       0.845, 0.334, 0.189, 0.867, 0.411, 0.583, 0.231, 0.396, 0.14 ,\n",
       "       0.391, 0.37 , 0.307, 0.102, 0.767, 0.237, 0.227, 0.698, 0.178,\n",
       "       0.324, 0.153, 0.165, 0.443, 0.261, 0.277, 0.761, 0.255, 0.13 ,\n",
       "       0.323, 0.356, 0.325, 1.222, 0.179, 0.262, 0.283, 0.93 , 0.801,\n",
       "       0.207, 0.287, 0.336, 0.247, 0.199, 0.543, 0.192, 0.588, 0.539,\n",
       "       0.22 , 0.654, 0.223, 0.759, 0.26 , 0.404, 0.186, 0.278, 0.496,\n",
       "       0.452, 0.403, 0.741, 0.361, 1.114, 0.457, 0.647, 0.088, 0.597,\n",
       "       0.532, 0.703, 0.159, 0.268, 0.286, 0.318, 0.272, 0.572, 0.096,\n",
       "       1.4  , 0.218, 0.085, 0.399, 0.432, 1.189, 0.687, 0.137, 0.637,\n",
       "       0.833, 0.229, 0.817, 0.204, 0.368, 0.743, 0.722, 0.256, 0.709,\n",
       "       0.471, 0.495, 0.18 , 0.542, 0.773, 0.678, 0.719, 0.382, 0.319,\n",
       "       0.19 , 0.956, 0.084, 0.725, 0.299, 0.244, 0.745, 0.615, 1.321,\n",
       "       0.64 , 0.142, 0.374, 0.383, 0.578, 0.136, 0.395, 0.187, 0.905,\n",
       "       0.15 , 0.874, 0.236, 0.787, 0.407, 0.605, 0.151, 0.289, 0.355,\n",
       "       0.29 , 0.375, 0.164, 0.431, 0.742, 0.514, 0.464, 1.224, 1.072,\n",
       "       0.805, 0.209, 0.666, 0.101, 0.198, 0.652, 2.329, 0.089, 0.645,\n",
       "       0.238, 0.394, 0.293, 0.479, 0.686, 0.831, 0.582, 0.446, 0.402,\n",
       "       1.318, 0.329, 1.213, 0.427, 0.282, 0.143, 0.38 , 0.284, 0.249,\n",
       "       0.926, 0.557, 0.092, 0.655, 1.353, 0.612, 0.2  , 0.226, 0.997,\n",
       "       0.933, 1.101, 0.078, 0.24 , 1.136, 0.128, 0.422, 0.251, 0.677,\n",
       "       0.296, 0.454, 0.744, 0.881, 0.28 , 0.259, 0.619, 0.808, 0.34 ,\n",
       "       0.434, 0.757, 0.613, 0.692, 0.52 , 0.412, 0.84 , 0.839, 0.156,\n",
       "       0.215, 0.326, 1.391, 0.875, 0.313, 0.433, 0.626, 1.127, 0.315,\n",
       "       0.345, 0.129, 0.527, 0.197, 0.731, 0.148, 0.123, 0.127, 0.122,\n",
       "       1.476, 0.166, 0.932, 0.343, 0.893, 0.331, 0.472, 0.673, 0.389,\n",
       "       0.485, 0.349, 0.279, 0.346, 0.252, 0.243, 0.58 , 0.559, 0.302,\n",
       "       0.569, 0.378, 0.385, 0.499, 0.306, 0.234, 2.137, 1.731, 0.545,\n",
       "       0.225, 0.816, 0.528, 0.509, 1.021, 0.821, 0.947, 1.268, 0.221,\n",
       "       0.66 , 0.239, 0.949, 0.444, 0.463, 0.803, 1.6  , 0.944, 0.196,\n",
       "       0.241, 0.161, 0.135, 0.376, 1.191, 0.702, 0.674, 1.076, 0.534,\n",
       "       1.095, 0.554, 0.624, 0.219, 0.507, 0.561, 0.421, 0.516, 0.264,\n",
       "       0.328, 0.233, 0.108, 1.138, 0.147, 0.727, 0.435, 0.497, 0.23 ,\n",
       "       0.955, 2.42 , 0.658, 0.33 , 0.51 , 0.285, 0.415, 0.381, 0.832,\n",
       "       0.498, 0.212, 0.364, 1.001, 0.46 , 0.733, 0.416, 0.705, 1.022,\n",
       "       0.269, 0.6  , 0.571, 0.607, 0.17 , 0.21 , 0.126, 0.711, 0.466,\n",
       "       0.162, 0.419, 0.63 , 0.365, 0.536, 1.159, 0.629, 0.292, 0.145,\n",
       "       1.144, 0.174, 0.547, 0.163, 0.738, 0.314, 0.968, 0.409, 0.297,\n",
       "       0.525, 0.154, 0.771, 0.107, 0.493, 0.717, 0.917, 0.501, 1.251,\n",
       "       0.735, 0.804, 0.661, 0.549, 0.825, 0.423, 1.034, 0.16 , 0.341,\n",
       "       0.68 , 0.591, 0.3  , 0.121, 0.502, 0.401, 0.601, 0.748, 0.338,\n",
       "       0.43 , 0.892, 0.813, 0.693, 0.575, 0.371, 0.206, 0.417, 1.154,\n",
       "       0.925, 0.175, 1.699, 0.682, 0.194, 0.4  , 0.1  , 1.258, 0.482,\n",
       "       0.138, 0.593, 0.878, 0.157, 1.282, 0.141, 0.246, 1.698, 1.461,\n",
       "       0.347, 0.362, 0.393, 0.144, 0.732, 0.115, 0.465, 0.649, 0.871,\n",
       "       0.149, 0.695, 0.303, 0.61 , 0.73 , 0.447, 0.455, 0.133, 0.155,\n",
       "       1.162, 1.292, 0.182, 1.394, 0.217, 0.631, 0.88 , 0.614, 0.332,\n",
       "       0.366, 0.181, 0.828, 0.335, 0.856, 0.886, 0.439, 0.253, 0.598,\n",
       "       0.904, 0.483, 0.565, 0.118, 0.177, 0.176, 0.295, 0.441, 0.352,\n",
       "       0.826, 0.97 , 0.595, 0.317, 0.265, 0.646, 0.426, 0.56 , 0.515,\n",
       "       0.453, 0.785, 0.734, 1.174, 0.488, 0.358, 1.096, 0.408, 1.182,\n",
       "       0.222, 1.057, 0.766, 0.171])"
      ]
     },
     "execution_count": 18,
     "metadata": {},
     "output_type": "execute_result"
    }
   ],
   "source": [
    "df_raw['DiabetesPedigreeFunction'].unique()"
   ]
  },
  {
   "cell_type": "markdown",
   "id": "ff525152",
   "metadata": {
    "ExecuteTime": {
     "end_time": "2021-09-07T19:58:43.485672Z",
     "start_time": "2021-09-07T19:58:43.470615Z"
    }
   },
   "source": [
    "### Atributte 'Age'"
   ]
  },
  {
   "cell_type": "code",
   "execution_count": 19,
   "id": "7788738d",
   "metadata": {
    "ExecuteTime": {
     "end_time": "2021-09-08T22:26:27.140834Z",
     "start_time": "2021-09-08T22:26:27.125838Z"
    }
   },
   "outputs": [
    {
     "data": {
      "text/plain": [
       "array([50, 31, 32, 21, 33, 30, 26, 29, 53, 54, 34, 57, 59, 51, 27, 41, 43,\n",
       "       22, 38, 60, 28, 45, 35, 46, 56, 37, 48, 40, 25, 24, 58, 42, 44, 39,\n",
       "       36, 23, 61, 69, 62, 55, 65, 47, 52, 66, 49, 63, 67, 72, 81, 64, 70,\n",
       "       68], dtype=int64)"
      ]
     },
     "execution_count": 19,
     "metadata": {},
     "output_type": "execute_result"
    }
   ],
   "source": [
    "df_raw['Age'].unique()"
   ]
  },
  {
   "cell_type": "markdown",
   "id": "07db2ce1",
   "metadata": {
    "ExecuteTime": {
     "end_time": "2021-09-07T19:58:43.501636Z",
     "start_time": "2021-09-07T19:58:43.489668Z"
    }
   },
   "source": [
    "### Atributte 'Outcome'"
   ]
  },
  {
   "cell_type": "code",
   "execution_count": 20,
   "id": "6164ae1d",
   "metadata": {
    "ExecuteTime": {
     "end_time": "2021-09-08T22:26:27.156787Z",
     "start_time": "2021-09-08T22:26:27.142793Z"
    }
   },
   "outputs": [
    {
     "data": {
      "text/plain": [
       "array([1, 0], dtype=int64)"
      ]
     },
     "execution_count": 20,
     "metadata": {},
     "output_type": "execute_result"
    }
   ],
   "source": [
    "df_raw['Outcome'].unique()"
   ]
  },
  {
   "cell_type": "markdown",
   "id": "cd7439f6",
   "metadata": {},
   "source": [
    "# Data Preparing"
   ]
  },
  {
   "cell_type": "code",
   "execution_count": 21,
   "id": "fb2e8604",
   "metadata": {
    "ExecuteTime": {
     "end_time": "2021-09-08T22:26:27.172712Z",
     "start_time": "2021-09-08T22:26:27.157778Z"
    }
   },
   "outputs": [],
   "source": [
    "df3 = df_raw.copy()"
   ]
  },
  {
   "cell_type": "markdown",
   "id": "a09d7c01",
   "metadata": {
    "ExecuteTime": {
     "end_time": "2021-09-07T19:58:43.531637Z",
     "start_time": "2021-09-07T19:58:43.517897Z"
    }
   },
   "source": [
    "## Rename columns"
   ]
  },
  {
   "cell_type": "code",
   "execution_count": 22,
   "id": "cea2a321",
   "metadata": {
    "ExecuteTime": {
     "end_time": "2021-09-08T22:26:27.188704Z",
     "start_time": "2021-09-08T22:26:27.173711Z"
    }
   },
   "outputs": [],
   "source": [
    "new_cols =[ 'pregnancies', 'glucose', 'blood_press', 'skin_thick', 'insulin','bmi', 'diabetes_pedigree', 'age', 'outcome']\n",
    "df3.columns = new_cols"
   ]
  },
  {
   "cell_type": "markdown",
   "id": "b5d3cdb2",
   "metadata": {},
   "source": [
    "# Exploratory data analysis"
   ]
  },
  {
   "cell_type": "code",
   "execution_count": 23,
   "id": "7a230ce9",
   "metadata": {
    "ExecuteTime": {
     "end_time": "2021-09-08T22:26:27.204627Z",
     "start_time": "2021-09-08T22:26:27.190701Z"
    }
   },
   "outputs": [],
   "source": [
    "df4 = df3.copy()"
   ]
  },
  {
   "cell_type": "code",
   "execution_count": 24,
   "id": "1d46ab1c",
   "metadata": {
    "ExecuteTime": {
     "end_time": "2021-09-08T22:26:27.220618Z",
     "start_time": "2021-09-08T22:26:27.206624Z"
    }
   },
   "outputs": [],
   "source": [
    "num_true  = df4[df4['outcome'] == 1].shape[0]\n",
    "num_false = df4[df4['outcome'] == 0].shape[0]"
   ]
  },
  {
   "cell_type": "code",
   "execution_count": 25,
   "id": "0f91d29a",
   "metadata": {
    "ExecuteTime": {
     "end_time": "2021-09-08T22:26:27.236542Z",
     "start_time": "2021-09-08T22:26:27.221614Z"
    }
   },
   "outputs": [
    {
     "name": "stdout",
     "output_type": "stream",
     "text": [
      "The number of true cases in the dataset is 268\n",
      "The number of false cases in the dataset is 500\n"
     ]
    }
   ],
   "source": [
    "print ('The number of true cases in the dataset is {}'.format(num_true))\n",
    "print ('The number of false cases in the dataset is {}'.format(num_false))"
   ]
  },
  {
   "cell_type": "code",
   "execution_count": 26,
   "id": "74a8b3d1",
   "metadata": {
    "ExecuteTime": {
     "end_time": "2021-09-08T22:26:27.251534Z",
     "start_time": "2021-09-08T22:26:27.237540Z"
    }
   },
   "outputs": [],
   "source": [
    "def plot_corr (df, size = 10):\n",
    "    corr = df.corr()\n",
    "    fig, ax = plt.subplots(figsize = (size,size))\n",
    "    ax.matshow(corr)\n",
    "    plt.xticks(range(len(corr.columns)), corr.columns)\n",
    "    plt.yticks(range(len(corr.columns)), corr.columns)"
   ]
  },
  {
   "cell_type": "code",
   "execution_count": 27,
   "id": "55867643",
   "metadata": {
    "ExecuteTime": {
     "end_time": "2021-09-08T22:26:27.536130Z",
     "start_time": "2021-09-08T22:26:27.255526Z"
    }
   },
   "outputs": [
    {
     "data": {
      "image/png": "[encoded data removed]",
      "text/plain": [
       "<Figure size 720x720 with 1 Axes>"
      ]
     },
     "metadata": {},
     "output_type": "display_data"
    }
   ],
   "source": [
    "plot_corr(df3)"
   ]
  },
  {
   "cell_type": "markdown",
   "id": "f65598bd",
   "metadata": {},
   "source": [
    "# Applying ML"
   ]
  },
  {
   "cell_type": "code",
   "execution_count": 28,
   "id": "9d2077b8",
   "metadata": {
    "ExecuteTime": {
     "end_time": "2021-09-08T22:26:27.551069Z",
     "start_time": "2021-09-08T22:26:27.537102Z"
    }
   },
   "outputs": [],
   "source": [
    "df5 = df4.copy()"
   ]
  },
  {
   "cell_type": "markdown",
   "id": "8ef59600",
   "metadata": {
    "ExecuteTime": {
     "end_time": "2021-09-07T21:16:21.331888Z",
     "start_time": "2021-09-07T21:16:21.325905Z"
    }
   },
   "source": [
    "### Feature selection"
   ]
  },
  {
   "cell_type": "code",
   "execution_count": 29,
   "id": "de8b0343",
   "metadata": {
    "ExecuteTime": {
     "end_time": "2021-09-08T22:26:27.566703Z",
     "start_time": "2021-09-08T22:26:27.552062Z"
    }
   },
   "outputs": [],
   "source": [
    "attributes = ['pregnancies', 'glucose', 'blood_press', 'skin_thick', 'insulin', 'bmi', 'diabetes_pedigree', 'age']\n",
    "output_attribute = ['outcome']"
   ]
  },
  {
   "cell_type": "code",
   "execution_count": 30,
   "id": "5fa214f5",
   "metadata": {
    "ExecuteTime": {
     "end_time": "2021-09-08T22:26:27.581649Z",
     "start_time": "2021-09-08T22:26:27.567526Z"
    }
   },
   "outputs": [],
   "source": [
    "X = df5[attributes].values\n",
    "Y = df5[output_attribute].values"
   ]
  },
  {
   "cell_type": "markdown",
   "id": "19fb801c",
   "metadata": {
    "ExecuteTime": {
     "end_time": "2021-09-07T21:16:28.625013Z",
     "start_time": "2021-09-07T21:16:28.607062Z"
    }
   },
   "source": [
    "## Splitting dataframe"
   ]
  },
  {
   "cell_type": "code",
   "execution_count": 31,
   "id": "0f4c6495",
   "metadata": {
    "ExecuteTime": {
     "end_time": "2021-09-08T22:26:27.596890Z",
     "start_time": "2021-09-08T22:26:27.582476Z"
    }
   },
   "outputs": [],
   "source": [
    "split_test_size = 0.30"
   ]
  },
  {
   "cell_type": "code",
   "execution_count": 32,
   "id": "2eed3059",
   "metadata": {
    "ExecuteTime": {
     "end_time": "2021-09-08T22:26:27.611751Z",
     "start_time": "2021-09-08T22:26:27.597744Z"
    }
   },
   "outputs": [],
   "source": [
    "X_train, X_test, Y_train, Y_test = train_test_split ( X, Y, test_size = split_test_size , random_state = 42)"
   ]
  },
  {
   "cell_type": "code",
   "execution_count": 33,
   "id": "1caeb871",
   "metadata": {
    "ExecuteTime": {
     "end_time": "2021-09-08T22:26:27.627431Z",
     "start_time": "2021-09-08T22:26:27.613438Z"
    }
   },
   "outputs": [
    {
     "name": "stdout",
     "output_type": "stream",
     "text": [
      "69.92 % of data for train\n",
      "30.08 % of data for test\n"
     ]
    }
   ],
   "source": [
    "print ('{:.2F} % of data for train'. format ( ( len(X_train) / df5.shape[0] ) * 100 ) )\n",
    "print ('{:.2F} % of data for test'.  format ( ( len(X_test ) / df5.shape[0] ) * 100 ) )"
   ]
  },
  {
   "cell_type": "code",
   "execution_count": 34,
   "id": "6cc7cd94",
   "metadata": {
    "ExecuteTime": {
     "end_time": "2021-09-08T22:26:27.643392Z",
     "start_time": "2021-09-08T22:26:27.628401Z"
    }
   },
   "outputs": [],
   "source": [
    "full_zeros = SimpleImputer (missing_values = 0, strategy = 'mean')\n",
    "X_train = full_zeros.fit_transform(X_train)\n",
    "X_test = full_zeros.fit_transform(X_test)"
   ]
  },
  {
   "cell_type": "markdown",
   "id": "ad142510",
   "metadata": {},
   "source": [
    "## Gaussian Navie Bayes"
   ]
  },
  {
   "cell_type": "code",
   "execution_count": 51,
   "id": "d9ae1e15",
   "metadata": {
    "ExecuteTime": {
     "end_time": "2021-09-08T22:32:04.711208Z",
     "start_time": "2021-09-08T22:32:04.699238Z"
    }
   },
   "outputs": [],
   "source": [
    "model_v1 = GaussianNB() #create an object of classification algorithm"
   ]
  },
  {
   "cell_type": "code",
   "execution_count": 52,
   "id": "dc0367ce",
   "metadata": {
    "ExecuteTime": {
     "end_time": "2021-09-08T22:32:08.824446Z",
     "start_time": "2021-09-08T22:32:08.810450Z"
    }
   },
   "outputs": [
    {
     "data": {
      "text/plain": [
       "GaussianNB()"
      ]
     },
     "execution_count": 52,
     "metadata": {},
     "output_type": "execute_result"
    }
   ],
   "source": [
    "# training model \n",
    "model_v1.fit(X_train , Y_train.ravel()) # rave to adjust the shape"
   ]
  },
  {
   "cell_type": "markdown",
   "id": "1fe94e42",
   "metadata": {
    "ExecuteTime": {
     "end_time": "2021-09-08T22:26:27.691267Z",
     "start_time": "2021-09-08T22:26:27.677271Z"
    }
   },
   "source": [
    "### Checking the accuracy"
   ]
  },
  {
   "cell_type": "code",
   "execution_count": 56,
   "id": "c3b3ac41",
   "metadata": {
    "ExecuteTime": {
     "end_time": "2021-09-08T22:32:34.434222Z",
     "start_time": "2021-09-08T22:32:34.419262Z"
    }
   },
   "outputs": [
    {
     "name": "stdout",
     "output_type": "stream",
     "text": [
      "Accuracy (test): 0.7359\n"
     ]
    }
   ],
   "source": [
    "nb_predict_test = model_v1.predict(X_test)\n",
    "print('Accuracy (test): {:.4f}'.format(metrics.accuracy_score(Y_test, nb_predict_test  )))"
   ]
  },
  {
   "cell_type": "code",
   "execution_count": 57,
   "id": "fdb24e5d",
   "metadata": {
    "ExecuteTime": {
     "end_time": "2021-09-08T22:32:35.118656Z",
     "start_time": "2021-09-08T22:32:35.103697Z"
    }
   },
   "outputs": [
    {
     "name": "stdout",
     "output_type": "stream",
     "text": [
      "Confusion Matrix\n",
      "[[ 52  28]\n",
      " [ 33 118]]\n"
     ]
    }
   ],
   "source": [
    "# confusion matrix\n",
    "print('Confusion Matrix')\n",
    "print ('{0}'.format(metrics.confusion_matrix (Y_test, nb_predict_test, labels = [1,0])))"
   ]
  },
  {
   "cell_type": "code",
   "execution_count": 58,
   "id": "2038da59",
   "metadata": {
    "ExecuteTime": {
     "end_time": "2021-09-08T22:32:36.522444Z",
     "start_time": "2021-09-08T22:32:36.514465Z"
    }
   },
   "outputs": [
    {
     "name": "stdout",
     "output_type": "stream",
     "text": [
      "Classification Report\n",
      "              precision    recall  f1-score   support\n",
      "\n",
      "           1       0.61      0.65      0.63        80\n",
      "           0       0.81      0.78      0.79       151\n",
      "\n",
      "    accuracy                           0.74       231\n",
      "   macro avg       0.71      0.72      0.71       231\n",
      "weighted avg       0.74      0.74      0.74       231\n",
      "\n"
     ]
    }
   ],
   "source": [
    "print('Classification Report')\n",
    "print(metrics.classification_report(Y_test, nb_predict_test, labels = [1,0]))"
   ]
  },
  {
   "cell_type": "markdown",
   "id": "ba3248b4",
   "metadata": {
    "ExecuteTime": {
     "end_time": "2021-09-08T22:26:27.818689Z",
     "start_time": "2021-09-08T22:26:27.803687Z"
    }
   },
   "source": [
    "## Random Forest"
   ]
  },
  {
   "cell_type": "code",
   "execution_count": 59,
   "id": "890c07b3",
   "metadata": {
    "ExecuteTime": {
     "end_time": "2021-09-08T22:32:41.827175Z",
     "start_time": "2021-09-08T22:32:41.683519Z"
    }
   },
   "outputs": [
    {
     "data": {
      "text/plain": [
       "RandomForestClassifier(random_state=42)"
      ]
     },
     "execution_count": 59,
     "metadata": {},
     "output_type": "execute_result"
    }
   ],
   "source": [
    "model_v2 = RandomForestClassifier (random_state = 42)\n",
    "model_v2.fit (X_train , Y_train.ravel())"
   ]
  },
  {
   "cell_type": "code",
   "execution_count": 60,
   "id": "be204bf2",
   "metadata": {
    "ExecuteTime": {
     "end_time": "2021-09-08T22:32:43.283283Z",
     "start_time": "2021-09-08T22:32:43.258318Z"
    }
   },
   "outputs": [
    {
     "name": "stdout",
     "output_type": "stream",
     "text": [
      "Accuracy (test): 0.7403\n"
     ]
    }
   ],
   "source": [
    "rf_predict_test  = model_v2.predict(X_test)\n",
    "print('Accuracy (test): {:.4f}' .format(metrics.accuracy_score(Y_test, rf_predict_test)))"
   ]
  },
  {
   "cell_type": "code",
   "execution_count": 61,
   "id": "95e881ec",
   "metadata": {
    "ExecuteTime": {
     "end_time": "2021-09-08T22:32:44.183499Z",
     "start_time": "2021-09-08T22:32:44.170540Z"
    }
   },
   "outputs": [
    {
     "name": "stdout",
     "output_type": "stream",
     "text": [
      "Confusion Matrix\n",
      "[[ 52  28]\n",
      " [ 32 119]]\n"
     ]
    }
   ],
   "source": [
    "# confusion matrix\n",
    "print('Confusion Matrix')\n",
    "print ('{0}'.format(metrics.confusion_matrix (Y_test, rf_predict_test, labels = [1,0])))"
   ]
  },
  {
   "cell_type": "markdown",
   "id": "6367aae6",
   "metadata": {},
   "source": [
    "### Checking the accuracy"
   ]
  },
  {
   "cell_type": "code",
   "execution_count": 62,
   "id": "ffe8a099",
   "metadata": {
    "ExecuteTime": {
     "end_time": "2021-09-08T22:32:45.131766Z",
     "start_time": "2021-09-08T22:32:45.111819Z"
    }
   },
   "outputs": [
    {
     "name": "stdout",
     "output_type": "stream",
     "text": [
      "Classification Report\n",
      "              precision    recall  f1-score   support\n",
      "\n",
      "           1       0.62      0.65      0.63        80\n",
      "           0       0.81      0.79      0.80       151\n",
      "\n",
      "    accuracy                           0.74       231\n",
      "   macro avg       0.71      0.72      0.72       231\n",
      "weighted avg       0.74      0.74      0.74       231\n",
      "\n"
     ]
    }
   ],
   "source": [
    "print('Classification Report')\n",
    "print(metrics.classification_report(Y_test, rf_predict_test, labels = [1,0]))"
   ]
  },
  {
   "cell_type": "markdown",
   "id": "8b721510",
   "metadata": {
    "ExecuteTime": {
     "end_time": "2021-09-08T22:32:45.610320Z",
     "start_time": "2021-09-08T22:32:45.594363Z"
    }
   },
   "source": [
    "## Logistic Regression"
   ]
  },
  {
   "cell_type": "code",
   "execution_count": 64,
   "id": "040ea4ca",
   "metadata": {
    "ExecuteTime": {
     "end_time": "2021-09-08T22:32:53.485001Z",
     "start_time": "2021-09-08T22:32:53.450094Z"
    }
   },
   "outputs": [
    {
     "name": "stderr",
     "output_type": "stream",
     "text": [
      "C:\\Users\\lelos\\anaconda3\\envs\\Study\\lib\\site-packages\\sklearn\\linear_model\\_logistic.py:763: ConvergenceWarning: lbfgs failed to converge (status=1):\n",
      "STOP: TOTAL NO. of ITERATIONS REACHED LIMIT.\n",
      "\n",
      "Increase the number of iterations (max_iter) or scale the data as shown in:\n",
      "    https://scikit-learn.org/stable/modules/preprocessing.html\n",
      "Please also refer to the documentation for alternative solver options:\n",
      "    https://scikit-learn.org/stable/modules/linear_model.html#logistic-regression\n",
      "  n_iter_i = _check_optimize_result(\n"
     ]
    }
   ],
   "source": [
    "model_v3 = LogisticRegression( C= 0.7 , random_state =  42)\n",
    "model_v3.fit ( X_train, Y_train.ravel())\n",
    "lr_predict_test = model_v3.predict(X_test)"
   ]
  },
  {
   "cell_type": "markdown",
   "id": "5e84f7cf",
   "metadata": {},
   "source": [
    "### Checking the accuracy"
   ]
  },
  {
   "cell_type": "code",
   "execution_count": 68,
   "id": "ca2a3107",
   "metadata": {
    "ExecuteTime": {
     "end_time": "2021-09-08T22:33:47.087002Z",
     "start_time": "2021-09-08T22:33:47.075002Z"
    }
   },
   "outputs": [
    {
     "name": "stdout",
     "output_type": "stream",
     "text": [
      "Accuracy: 0.7489\n"
     ]
    }
   ],
   "source": [
    "print('Accuracy: {:.4f}'.format(metrics.accuracy_score(Y_test, lr_predict_test)))"
   ]
  },
  {
   "cell_type": "code",
   "execution_count": 69,
   "id": "90fb16d0",
   "metadata": {
    "ExecuteTime": {
     "end_time": "2021-09-08T22:33:48.513070Z",
     "start_time": "2021-09-08T22:33:48.490136Z"
    }
   },
   "outputs": [
    {
     "name": "stdout",
     "output_type": "stream",
     "text": [
      "Classification Report\n",
      "              precision    recall  f1-score   support\n",
      "\n",
      "           1       0.65      0.60      0.62        80\n",
      "           0       0.80      0.83      0.81       151\n",
      "\n",
      "    accuracy                           0.75       231\n",
      "   macro avg       0.72      0.71      0.72       231\n",
      "weighted avg       0.75      0.75      0.75       231\n",
      "\n"
     ]
    }
   ],
   "source": [
    "print('Classification Report')\n",
    "print(metrics.classification_report(Y_test, lr_predict_test, labels = [1,0]))"
   ]
  },
  {
   "cell_type": "code",
   "execution_count": 72,
   "id": "d97d6ec1",
   "metadata": {
    "ExecuteTime": {
     "end_time": "2021-09-08T22:38:25.397360Z",
     "start_time": "2021-09-08T22:38:25.370434Z"
    }
   },
   "outputs": [],
   "source": [
    "filename = r'..\\models\\training_model_v1.sav'\n",
    "pickle.dump (model_v3, open(filename, 'wb'))"
   ]
  },
  {
   "cell_type": "code",
   "execution_count": null,
   "id": "b74b456e",
   "metadata": {},
   "outputs": [],
   "source": []
  }
 ],
 "metadata": {
  "kernelspec": {
   "display_name": "Python 3 (ipykernel)",
   "language": "python",
   "name": "python3"
  },
  "language_info": {
   "codemirror_mode": {
    "name": "ipython",
    "version": 3
   },
   "file_extension": ".py",
   "mimetype": "text/x-python",
   "name": "python",
   "nbconvert_exporter": "python",
   "pygments_lexer": "ipython3",
   "version": "3.8.11"
  },
  "toc": {
   "base_numbering": "0",
   "nav_menu": {},
   "number_sections": true,
   "sideBar": true,
   "skip_h1_title": false,
   "title_cell": "Table of Contents",
   "title_sidebar": "Contents",
   "toc_cell": false,
   "toc_position": {},
   "toc_section_display": true,
   "toc_window_display": false
  }
 },
 "nbformat": 4,
 "nbformat_minor": 5
}
