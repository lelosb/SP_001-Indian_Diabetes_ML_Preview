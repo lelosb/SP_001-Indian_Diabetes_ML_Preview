{
 "cells": [
  {
   "cell_type": "markdown",
   "id": "18251be0",
   "metadata": {
    "ExecuteTime": {
     "end_time": "2021-09-08T19:33:16.094731Z",
     "start_time": "2021-09-08T19:33:16.084724Z"
    }
   },
   "source": [
    "# SP_001 - Indian Diabetes Preview"
   ]
  },
  {
   "cell_type": "markdown",
   "id": "c35b2060",
   "metadata": {},
   "source": [
    "# Basic Setups"
   ]
  },
  {
   "cell_type": "markdown",
   "id": "38fa69de",
   "metadata": {
    "ExecuteTime": {
     "end_time": "2021-09-08T19:33:48.465338Z",
     "start_time": "2021-09-08T19:33:48.461348Z"
    }
   },
   "source": [
    "## Imports"
   ]
  },
  {
   "cell_type": "code",
   "execution_count": 1,
   "id": "2fd0f417",
   "metadata": {
    "ExecuteTime": {
     "end_time": "2021-10-03T13:47:49.009450Z",
     "start_time": "2021-10-03T13:47:46.146547Z"
    }
   },
   "outputs": [],
   "source": [
    "import pandas as pd\n",
    "import matplotlib.pyplot as plt\n",
    "import numpy as np\n",
    "import seaborn as sns\n",
    "import pickle\n",
    "from sklearn                 import metrics\n",
    "from sklearn.model_selection import train_test_split\n",
    "from sklearn.naive_bayes     import GaussianNB\n",
    "from sklearn.ensemble        import RandomForestClassifier\n",
    "from sklearn.linear_model    import LogisticRegression\n",
    "from sklearn.impute          import SimpleImputer\n",
    "from IPython.core.display    import HTML"
   ]
  },
  {
   "cell_type": "markdown",
   "id": "f00bddda",
   "metadata": {},
   "source": [
    "## Helping functions"
   ]
  },
  {
   "cell_type": "code",
   "execution_count": 2,
   "id": "29f33722",
   "metadata": {
    "ExecuteTime": {
     "end_time": "2021-10-03T13:47:49.040539Z",
     "start_time": "2021-10-03T13:47:49.010615Z"
    }
   },
   "outputs": [
    {
     "name": "stdout",
     "output_type": "stream",
     "text": [
      "Populating the interactive namespace from numpy and matplotlib\n"
     ]
    },
    {
     "data": {
      "text/html": [
       "<style>.container { width:100% !important; }</style>"
      ],
      "text/plain": [
       "<IPython.core.display.HTML object>"
      ]
     },
     "metadata": {},
     "output_type": "display_data"
    }
   ],
   "source": [
    "#jupyter notebook settings\n",
    "def jupyter_settings():\n",
    "    %matplotlib inline\n",
    "    %pylab inline\n",
    "    plt.style.use( 'bmh' )\n",
    "    plt.rcParams['figure.figsize'] = [25, 12]\n",
    "    plt.rcParams['font.size'] = 24\n",
    "    display( HTML( '<style>.container { width:100% !important; }</style>') )\n",
    "    pd.options.display.max_columns = None\n",
    "    pd.options.display.max_rows = None\n",
    "    pd.set_option( 'display.expand_frame_repr', False )\n",
    "    sns.set()\n",
    "jupyter_settings()\n",
    "\n",
    "# Supress Scientific Notation\n",
    "np.set_printoptions(suppress=True)\n",
    "pd.set_option('display.float_format', '{:.2f}'.format)"
   ]
  },
  {
   "cell_type": "markdown",
   "id": "9898a1e1",
   "metadata": {
    "ExecuteTime": {
     "end_time": "2021-09-07T21:35:10.044447Z",
     "start_time": "2021-09-07T21:35:10.031482Z"
    }
   },
   "source": [
    "# Data overview"
   ]
  },
  {
   "cell_type": "markdown",
   "id": "9dc3ff15",
   "metadata": {
    "ExecuteTime": {
     "end_time": "2021-09-07T21:25:29.419605Z",
     "start_time": "2021-09-07T21:25:29.415621Z"
    }
   },
   "source": [
    "## Data Load"
   ]
  },
  {
   "cell_type": "code",
   "execution_count": 3,
   "id": "5d6e97bd",
   "metadata": {
    "ExecuteTime": {
     "end_time": "2021-10-03T13:47:49.056529Z",
     "start_time": "2021-10-03T13:47:49.043531Z"
    }
   },
   "outputs": [],
   "source": [
    "df_raw = pd.read_csv(r'../data/raw/diabetes.csv')"
   ]
  },
  {
   "cell_type": "code",
   "execution_count": 4,
   "id": "e72d8530",
   "metadata": {
    "ExecuteTime": {
     "end_time": "2021-10-03T13:47:49.087412Z",
     "start_time": "2021-10-03T13:47:49.057492Z"
    }
   },
   "outputs": [
    {
     "data": {
      "text/html": [
       "<div>\n",
       "<style scoped>\n",
       "    .dataframe tbody tr th:only-of-type {\n",
       "        vertical-align: middle;\n",
       "    }\n",
       "\n",
       "    .dataframe tbody tr th {\n",
       "        vertical-align: top;\n",
       "    }\n",
       "\n",
       "    .dataframe thead th {\n",
       "        text-align: right;\n",
       "    }\n",
       "</style>\n",
       "<table border=\"1\" class=\"dataframe\">\n",
       "  <thead>\n",
       "    <tr style=\"text-align: right;\">\n",
       "      <th></th>\n",
       "      <th>Pregnancies</th>\n",
       "      <th>Glucose</th>\n",
       "      <th>BloodPressure</th>\n",
       "      <th>SkinThickness</th>\n",
       "      <th>Insulin</th>\n",
       "      <th>BMI</th>\n",
       "      <th>DiabetesPedigreeFunction</th>\n",
       "      <th>Age</th>\n",
       "      <th>Outcome</th>\n",
       "    </tr>\n",
       "  </thead>\n",
       "  <tbody>\n",
       "    <tr>\n",
       "      <th>0</th>\n",
       "      <td>6</td>\n",
       "      <td>148</td>\n",
       "      <td>72</td>\n",
       "      <td>35</td>\n",
       "      <td>0</td>\n",
       "      <td>33.60</td>\n",
       "      <td>0.63</td>\n",
       "      <td>50</td>\n",
       "      <td>1</td>\n",
       "    </tr>\n",
       "    <tr>\n",
       "      <th>1</th>\n",
       "      <td>1</td>\n",
       "      <td>85</td>\n",
       "      <td>66</td>\n",
       "      <td>29</td>\n",
       "      <td>0</td>\n",
       "      <td>26.60</td>\n",
       "      <td>0.35</td>\n",
       "      <td>31</td>\n",
       "      <td>0</td>\n",
       "    </tr>\n",
       "    <tr>\n",
       "      <th>2</th>\n",
       "      <td>8</td>\n",
       "      <td>183</td>\n",
       "      <td>64</td>\n",
       "      <td>0</td>\n",
       "      <td>0</td>\n",
       "      <td>23.30</td>\n",
       "      <td>0.67</td>\n",
       "      <td>32</td>\n",
       "      <td>1</td>\n",
       "    </tr>\n",
       "    <tr>\n",
       "      <th>3</th>\n",
       "      <td>1</td>\n",
       "      <td>89</td>\n",
       "      <td>66</td>\n",
       "      <td>23</td>\n",
       "      <td>94</td>\n",
       "      <td>28.10</td>\n",
       "      <td>0.17</td>\n",
       "      <td>21</td>\n",
       "      <td>0</td>\n",
       "    </tr>\n",
       "    <tr>\n",
       "      <th>4</th>\n",
       "      <td>0</td>\n",
       "      <td>137</td>\n",
       "      <td>40</td>\n",
       "      <td>35</td>\n",
       "      <td>168</td>\n",
       "      <td>43.10</td>\n",
       "      <td>2.29</td>\n",
       "      <td>33</td>\n",
       "      <td>1</td>\n",
       "    </tr>\n",
       "  </tbody>\n",
       "</table>\n",
       "</div>"
      ],
      "text/plain": [
       "   Pregnancies  Glucose  BloodPressure  SkinThickness  Insulin   BMI  DiabetesPedigreeFunction  Age  Outcome\n",
       "0            6      148             72             35        0 33.60                      0.63   50        1\n",
       "1            1       85             66             29        0 26.60                      0.35   31        0\n",
       "2            8      183             64              0        0 23.30                      0.67   32        1\n",
       "3            1       89             66             23       94 28.10                      0.17   21        0\n",
       "4            0      137             40             35      168 43.10                      2.29   33        1"
      ]
     },
     "execution_count": 4,
     "metadata": {},
     "output_type": "execute_result"
    }
   ],
   "source": [
    "df_raw.head()"
   ]
  },
  {
   "cell_type": "code",
   "execution_count": 5,
   "id": "8b37f11d",
   "metadata": {
    "ExecuteTime": {
     "end_time": "2021-10-03T13:47:49.102420Z",
     "start_time": "2021-10-03T13:47:49.088410Z"
    }
   },
   "outputs": [
    {
     "name": "stdout",
     "output_type": "stream",
     "text": [
      "The dataset has 768 registers with 9 attributes.\n"
     ]
    }
   ],
   "source": [
    "print('The dataset has {} registers with {} attributes.'.format(df_raw.shape[0], df_raw.shape[1]))"
   ]
  },
  {
   "cell_type": "code",
   "execution_count": 6,
   "id": "6ed613a4",
   "metadata": {
    "ExecuteTime": {
     "end_time": "2021-10-03T13:47:49.134294Z",
     "start_time": "2021-10-03T13:47:49.104367Z"
    }
   },
   "outputs": [
    {
     "data": {
      "text/html": [
       "<div>\n",
       "<style scoped>\n",
       "    .dataframe tbody tr th:only-of-type {\n",
       "        vertical-align: middle;\n",
       "    }\n",
       "\n",
       "    .dataframe tbody tr th {\n",
       "        vertical-align: top;\n",
       "    }\n",
       "\n",
       "    .dataframe thead th {\n",
       "        text-align: right;\n",
       "    }\n",
       "</style>\n",
       "<table border=\"1\" class=\"dataframe\">\n",
       "  <thead>\n",
       "    <tr style=\"text-align: right;\">\n",
       "      <th></th>\n",
       "      <th>count</th>\n",
       "      <th>mean</th>\n",
       "      <th>std</th>\n",
       "      <th>min</th>\n",
       "      <th>25%</th>\n",
       "      <th>50%</th>\n",
       "      <th>75%</th>\n",
       "      <th>max</th>\n",
       "    </tr>\n",
       "  </thead>\n",
       "  <tbody>\n",
       "    <tr>\n",
       "      <th>Pregnancies</th>\n",
       "      <td>768.00</td>\n",
       "      <td>3.85</td>\n",
       "      <td>3.37</td>\n",
       "      <td>0.00</td>\n",
       "      <td>1.00</td>\n",
       "      <td>3.00</td>\n",
       "      <td>6.00</td>\n",
       "      <td>17.00</td>\n",
       "    </tr>\n",
       "    <tr>\n",
       "      <th>Glucose</th>\n",
       "      <td>768.00</td>\n",
       "      <td>120.89</td>\n",
       "      <td>31.97</td>\n",
       "      <td>0.00</td>\n",
       "      <td>99.00</td>\n",
       "      <td>117.00</td>\n",
       "      <td>140.25</td>\n",
       "      <td>199.00</td>\n",
       "    </tr>\n",
       "    <tr>\n",
       "      <th>BloodPressure</th>\n",
       "      <td>768.00</td>\n",
       "      <td>69.11</td>\n",
       "      <td>19.36</td>\n",
       "      <td>0.00</td>\n",
       "      <td>62.00</td>\n",
       "      <td>72.00</td>\n",
       "      <td>80.00</td>\n",
       "      <td>122.00</td>\n",
       "    </tr>\n",
       "    <tr>\n",
       "      <th>SkinThickness</th>\n",
       "      <td>768.00</td>\n",
       "      <td>20.54</td>\n",
       "      <td>15.95</td>\n",
       "      <td>0.00</td>\n",
       "      <td>0.00</td>\n",
       "      <td>23.00</td>\n",
       "      <td>32.00</td>\n",
       "      <td>99.00</td>\n",
       "    </tr>\n",
       "    <tr>\n",
       "      <th>Insulin</th>\n",
       "      <td>768.00</td>\n",
       "      <td>79.80</td>\n",
       "      <td>115.24</td>\n",
       "      <td>0.00</td>\n",
       "      <td>0.00</td>\n",
       "      <td>30.50</td>\n",
       "      <td>127.25</td>\n",
       "      <td>846.00</td>\n",
       "    </tr>\n",
       "    <tr>\n",
       "      <th>BMI</th>\n",
       "      <td>768.00</td>\n",
       "      <td>31.99</td>\n",
       "      <td>7.88</td>\n",
       "      <td>0.00</td>\n",
       "      <td>27.30</td>\n",
       "      <td>32.00</td>\n",
       "      <td>36.60</td>\n",
       "      <td>67.10</td>\n",
       "    </tr>\n",
       "    <tr>\n",
       "      <th>DiabetesPedigreeFunction</th>\n",
       "      <td>768.00</td>\n",
       "      <td>0.47</td>\n",
       "      <td>0.33</td>\n",
       "      <td>0.08</td>\n",
       "      <td>0.24</td>\n",
       "      <td>0.37</td>\n",
       "      <td>0.63</td>\n",
       "      <td>2.42</td>\n",
       "    </tr>\n",
       "    <tr>\n",
       "      <th>Age</th>\n",
       "      <td>768.00</td>\n",
       "      <td>33.24</td>\n",
       "      <td>11.76</td>\n",
       "      <td>21.00</td>\n",
       "      <td>24.00</td>\n",
       "      <td>29.00</td>\n",
       "      <td>41.00</td>\n",
       "      <td>81.00</td>\n",
       "    </tr>\n",
       "    <tr>\n",
       "      <th>Outcome</th>\n",
       "      <td>768.00</td>\n",
       "      <td>0.35</td>\n",
       "      <td>0.48</td>\n",
       "      <td>0.00</td>\n",
       "      <td>0.00</td>\n",
       "      <td>0.00</td>\n",
       "      <td>1.00</td>\n",
       "      <td>1.00</td>\n",
       "    </tr>\n",
       "  </tbody>\n",
       "</table>\n",
       "</div>"
      ],
      "text/plain": [
       "                          count   mean    std   min   25%    50%    75%    max\n",
       "Pregnancies              768.00   3.85   3.37  0.00  1.00   3.00   6.00  17.00\n",
       "Glucose                  768.00 120.89  31.97  0.00 99.00 117.00 140.25 199.00\n",
       "BloodPressure            768.00  69.11  19.36  0.00 62.00  72.00  80.00 122.00\n",
       "SkinThickness            768.00  20.54  15.95  0.00  0.00  23.00  32.00  99.00\n",
       "Insulin                  768.00  79.80 115.24  0.00  0.00  30.50 127.25 846.00\n",
       "BMI                      768.00  31.99   7.88  0.00 27.30  32.00  36.60  67.10\n",
       "DiabetesPedigreeFunction 768.00   0.47   0.33  0.08  0.24   0.37   0.63   2.42\n",
       "Age                      768.00  33.24  11.76 21.00 24.00  29.00  41.00  81.00\n",
       "Outcome                  768.00   0.35   0.48  0.00  0.00   0.00   1.00   1.00"
      ]
     },
     "execution_count": 6,
     "metadata": {},
     "output_type": "execute_result"
    }
   ],
   "source": [
    "df_raw.describe().T"
   ]
  },
  {
   "cell_type": "markdown",
   "id": "c1c16435",
   "metadata": {
    "ExecuteTime": {
     "end_time": "2021-09-08T19:35:37.616827Z",
     "start_time": "2021-09-08T19:35:37.607852Z"
    }
   },
   "source": [
    "Tasks: \n",
    "1) Change the columns names\n",
    "\n",
    "2) Check the number of pregnancies (it can have outliers)\n",
    "\n",
    "3) Glucose, Blood Pressure, Skin Thickness, Insulin and BMI have null registers. Check it."
   ]
  },
  {
   "cell_type": "markdown",
   "id": "98b43e2d",
   "metadata": {
    "ExecuteTime": {
     "end_time": "2021-09-05T16:32:46.736339Z",
     "start_time": "2021-09-05T16:32:46.736339Z"
    }
   },
   "source": [
    "## Check NaN"
   ]
  },
  {
   "cell_type": "code",
   "execution_count": 97,
   "id": "776c468d",
   "metadata": {
    "ExecuteTime": {
     "end_time": "2021-10-03T17:54:19.011900Z",
     "start_time": "2021-10-03T17:54:18.993922Z"
    }
   },
   "outputs": [
    {
     "data": {
      "text/plain": [
       "Pregnancies                 0\n",
       "Glucose                     0\n",
       "BloodPressure               0\n",
       "SkinThickness               0\n",
       "Insulin                     0\n",
       "BMI                         0\n",
       "DiabetesPedigreeFunction    0\n",
       "Age                         0\n",
       "Outcome                     0\n",
       "dtype: int64"
      ]
     },
     "execution_count": 97,
     "metadata": {},
     "output_type": "execute_result"
    }
   ],
   "source": [
    "df_raw.isnull().sum()"
   ]
  },
  {
   "cell_type": "markdown",
   "id": "92683832",
   "metadata": {
    "ExecuteTime": {
     "end_time": "2021-09-07T18:02:45.358165Z",
     "start_time": "2021-09-07T18:02:45.350188Z"
    }
   },
   "source": [
    "## Check data types"
   ]
  },
  {
   "cell_type": "code",
   "execution_count": 98,
   "id": "ba93d9cf",
   "metadata": {
    "ExecuteTime": {
     "end_time": "2021-10-03T17:54:21.292944Z",
     "start_time": "2021-10-03T17:54:21.276989Z"
    }
   },
   "outputs": [
    {
     "data": {
      "text/plain": [
       "Pregnancies                   int64\n",
       "Glucose                       int64\n",
       "BloodPressure                 int64\n",
       "SkinThickness                 int64\n",
       "Insulin                       int64\n",
       "BMI                         float64\n",
       "DiabetesPedigreeFunction    float64\n",
       "Age                           int64\n",
       "Outcome                       int64\n",
       "dtype: object"
      ]
     },
     "execution_count": 98,
     "metadata": {},
     "output_type": "execute_result"
    }
   ],
   "source": [
    "df_raw.dtypes"
   ]
  },
  {
   "cell_type": "markdown",
   "id": "601bbef3",
   "metadata": {
    "ExecuteTime": {
     "end_time": "2021-09-07T19:58:43.343761Z",
     "start_time": "2021-09-07T19:58:43.328802Z"
    }
   },
   "source": [
    "## Check attributes"
   ]
  },
  {
   "cell_type": "markdown",
   "id": "aad15885",
   "metadata": {
    "ExecuteTime": {
     "end_time": "2021-09-07T19:58:43.359720Z",
     "start_time": "2021-09-07T19:58:43.347751Z"
    }
   },
   "source": [
    "### Atributte 'Pregnancies'"
   ]
  },
  {
   "cell_type": "code",
   "execution_count": 99,
   "id": "f28e9927",
   "metadata": {
    "ExecuteTime": {
     "end_time": "2021-10-03T17:54:23.687371Z",
     "start_time": "2021-10-03T17:54:23.668377Z"
    }
   },
   "outputs": [
    {
     "data": {
      "text/plain": [
       "1     135\n",
       "0     111\n",
       "2     103\n",
       "3      75\n",
       "4      68\n",
       "5      57\n",
       "6      50\n",
       "7      45\n",
       "8      38\n",
       "9      28\n",
       "10     24\n",
       "11     11\n",
       "13     10\n",
       "12      9\n",
       "14      2\n",
       "15      1\n",
       "17      1\n",
       "Name: Pregnancies, dtype: int64"
      ]
     },
     "execution_count": 99,
     "metadata": {},
     "output_type": "execute_result"
    }
   ],
   "source": [
    "# number of times pregnant\n",
    "df_raw['Pregnancies'].value_counts()"
   ]
  },
  {
   "cell_type": "markdown",
   "id": "becc3abe",
   "metadata": {
    "ExecuteTime": {
     "end_time": "2021-09-07T19:58:43.391691Z",
     "start_time": "2021-09-07T19:58:43.378671Z"
    }
   },
   "source": [
    "### Atributte 'Glucose'"
   ]
  },
  {
   "cell_type": "code",
   "execution_count": 100,
   "id": "0a68ed60",
   "metadata": {
    "ExecuteTime": {
     "end_time": "2021-10-03T17:54:25.601412Z",
     "start_time": "2021-10-03T17:54:25.588447Z"
    }
   },
   "outputs": [
    {
     "data": {
      "text/plain": [
       "array([  0,  44,  56,  57,  61,  62,  65,  67,  68,  71,  72,  73,  74,\n",
       "        75,  76,  77,  78,  79,  80,  81,  82,  83,  84,  85,  86,  87,\n",
       "        88,  89,  90,  91,  92,  93,  94,  95,  96,  97,  98,  99, 100,\n",
       "       101, 102, 103, 104, 105, 106, 107, 108, 109, 110, 111, 112, 113,\n",
       "       114, 115, 116, 117, 118, 119, 120, 121, 122, 123, 124, 125, 126,\n",
       "       127, 128, 129, 130, 131, 132, 133, 134, 135, 136, 137, 138, 139,\n",
       "       140, 141, 142, 143, 144, 145, 146, 147, 148, 149, 150, 151, 152,\n",
       "       153, 154, 155, 156, 157, 158, 159, 160, 161, 162, 163, 164, 165,\n",
       "       166, 167, 168, 169, 170, 171, 172, 173, 174, 175, 176, 177, 178,\n",
       "       179, 180, 181, 182, 183, 184, 186, 187, 188, 189, 190, 191, 193,\n",
       "       194, 195, 196, 197, 198, 199], dtype=int64)"
      ]
     },
     "execution_count": 100,
     "metadata": {},
     "output_type": "execute_result"
    }
   ],
   "source": [
    "#plasma glucose concentration\n",
    "df_raw['Glucose'].sort_values().unique()"
   ]
  },
  {
   "cell_type": "markdown",
   "id": "19c77194",
   "metadata": {
    "ExecuteTime": {
     "end_time": "2021-09-07T19:58:43.406685Z",
     "start_time": "2021-09-07T19:58:43.393685Z"
    }
   },
   "source": [
    "### Atributte 'BloodPressure'"
   ]
  },
  {
   "cell_type": "code",
   "execution_count": 101,
   "id": "59547667",
   "metadata": {
    "ExecuteTime": {
     "end_time": "2021-10-03T17:54:27.218395Z",
     "start_time": "2021-10-03T17:54:27.196421Z"
    }
   },
   "outputs": [
    {
     "data": {
      "text/plain": [
       "array([  0,  24,  30,  38,  40,  44,  46,  48,  50,  52,  54,  55,  56,\n",
       "        58,  60,  61,  62,  64,  65,  66,  68,  70,  72,  74,  75,  76,\n",
       "        78,  80,  82,  84,  85,  86,  88,  90,  92,  94,  95,  96,  98,\n",
       "       100, 102, 104, 106, 108, 110, 114, 122], dtype=int64)"
      ]
     },
     "execution_count": 101,
     "metadata": {},
     "output_type": "execute_result"
    }
   ],
   "source": [
    "df_raw['BloodPressure'].sort_values().unique()"
   ]
  },
  {
   "cell_type": "code",
   "execution_count": 102,
   "id": "766111e7",
   "metadata": {
    "ExecuteTime": {
     "end_time": "2021-10-03T17:54:28.478615Z",
     "start_time": "2021-10-03T17:54:28.460664Z"
    }
   },
   "outputs": [
    {
     "data": {
      "text/plain": [
       "35"
      ]
     },
     "execution_count": 102,
     "metadata": {},
     "output_type": "execute_result"
    }
   ],
   "source": [
    "df_raw[df_raw['BloodPressure'] == 0].shape[0]"
   ]
  },
  {
   "cell_type": "markdown",
   "id": "bf12a3c1",
   "metadata": {
    "ExecuteTime": {
     "end_time": "2021-09-07T19:58:43.421748Z",
     "start_time": "2021-09-07T19:58:43.408647Z"
    }
   },
   "source": [
    "### Atributte 'SkinThickness'"
   ]
  },
  {
   "cell_type": "code",
   "execution_count": 103,
   "id": "36a534d9",
   "metadata": {
    "ExecuteTime": {
     "end_time": "2021-10-03T17:54:29.703314Z",
     "start_time": "2021-10-03T17:54:29.692344Z"
    }
   },
   "outputs": [
    {
     "data": {
      "text/plain": [
       "array([ 0,  7,  8, 10, 11, 12, 13, 14, 15, 16, 17, 18, 19, 20, 21, 22, 23,\n",
       "       24, 25, 26, 27, 28, 29, 30, 31, 32, 33, 34, 35, 36, 37, 38, 39, 40,\n",
       "       41, 42, 43, 44, 45, 46, 47, 48, 49, 50, 51, 52, 54, 56, 60, 63, 99],\n",
       "      dtype=int64)"
      ]
     },
     "execution_count": 103,
     "metadata": {},
     "output_type": "execute_result"
    }
   ],
   "source": [
    "#Triceps skin fold thickness (mm)\n",
    "df_raw['SkinThickness'].sort_values().unique()"
   ]
  },
  {
   "cell_type": "markdown",
   "id": "866a4e6f",
   "metadata": {
    "ExecuteTime": {
     "end_time": "2021-09-07T19:58:43.437703Z",
     "start_time": "2021-09-07T19:58:43.426734Z"
    }
   },
   "source": [
    "### Atributte 'Insulin' "
   ]
  },
  {
   "cell_type": "code",
   "execution_count": 104,
   "id": "eeecd36c",
   "metadata": {
    "ExecuteTime": {
     "end_time": "2021-10-03T17:54:34.107589Z",
     "start_time": "2021-10-03T17:54:34.093626Z"
    }
   },
   "outputs": [
    {
     "data": {
      "text/plain": [
       "array([  0,  14,  15,  16,  18,  22,  23,  25,  29,  32,  36,  37,  38,\n",
       "        40,  41,  42,  43,  44,  45,  46,  48,  49,  50,  51,  52,  53,\n",
       "        54,  55,  56,  57,  58,  59,  60,  61,  63,  64,  65,  66,  67,\n",
       "        68,  70,  71,  72,  73,  74,  75,  76,  77,  78,  79,  81,  82,\n",
       "        83,  84,  85,  86,  87,  88,  89,  90,  91,  92,  94,  95,  96,\n",
       "        99, 100, 105, 106, 108, 110, 112, 114, 115, 116, 119, 120, 122,\n",
       "       125, 126, 127, 128, 129, 130, 132, 135, 140, 142, 144, 145, 146,\n",
       "       148, 150, 152, 155, 156, 158, 159, 160, 165, 166, 167, 168, 170,\n",
       "       171, 175, 176, 178, 180, 182, 183, 184, 185, 188, 190, 191, 192,\n",
       "       193, 194, 196, 200, 204, 205, 207, 210, 215, 220, 225, 228, 230,\n",
       "       231, 235, 237, 240, 245, 249, 250, 255, 258, 265, 270, 271, 272,\n",
       "       274, 275, 277, 278, 280, 284, 285, 291, 293, 300, 304, 310, 318,\n",
       "       321, 325, 326, 328, 330, 335, 342, 360, 370, 375, 387, 392, 402,\n",
       "       415, 440, 465, 474, 478, 480, 485, 495, 510, 540, 543, 545, 579,\n",
       "       600, 680, 744, 846], dtype=int64)"
      ]
     },
     "execution_count": 104,
     "metadata": {},
     "output_type": "execute_result"
    }
   ],
   "source": [
    "df_raw['Insulin'].sort_values().unique()"
   ]
  },
  {
   "cell_type": "markdown",
   "id": "a05662ff",
   "metadata": {
    "ExecuteTime": {
     "end_time": "2021-09-07T19:58:43.453660Z",
     "start_time": "2021-09-07T19:58:43.439700Z"
    }
   },
   "source": [
    "### Atributte'BMI'"
   ]
  },
  {
   "cell_type": "code",
   "execution_count": 105,
   "id": "96db308e",
   "metadata": {
    "ExecuteTime": {
     "end_time": "2021-10-03T17:54:36.019320Z",
     "start_time": "2021-10-03T17:54:35.996382Z"
    }
   },
   "outputs": [
    {
     "data": {
      "text/plain": [
       "array([ 0. , 18.2, 18.4, 19.1, 19.3, 19.4, 19.5, 19.6, 19.9, 20. , 20.1,\n",
       "       20.4, 20.8, 21. , 21.1, 21.2, 21.7, 21.8, 21.9, 22.1, 22.2, 22.3,\n",
       "       22.4, 22.5, 22.6, 22.7, 22.9, 23. , 23.1, 23.2, 23.3, 23.4, 23.5,\n",
       "       23.6, 23.7, 23.8, 23.9, 24. , 24.1, 24.2, 24.3, 24.4, 24.5, 24.6,\n",
       "       24.7, 24.8, 24.9, 25. , 25.1, 25.2, 25.3, 25.4, 25.5, 25.6, 25.8,\n",
       "       25.9, 26. , 26.1, 26.2, 26.3, 26.4, 26.5, 26.6, 26.7, 26.8, 26.9,\n",
       "       27. , 27.1, 27.2, 27.3, 27.4, 27.5, 27.6, 27.7, 27.8, 27.9, 28. ,\n",
       "       28.1, 28.2, 28.3, 28.4, 28.5, 28.6, 28.7, 28.8, 28.9, 29. , 29.2,\n",
       "       29.3, 29.5, 29.6, 29.7, 29.8, 29.9, 30. , 30.1, 30.2, 30.3, 30.4,\n",
       "       30.5, 30.7, 30.8, 30.9, 31. , 31.1, 31.2, 31.3, 31.6, 31.9, 32. ,\n",
       "       32.1, 32.2, 32.3, 32.4, 32.5, 32.6, 32.7, 32.8, 32.9, 33.1, 33.2,\n",
       "       33.3, 33.5, 33.6, 33.7, 33.8, 33.9, 34. , 34.1, 34.2, 34.3, 34.4,\n",
       "       34.5, 34.6, 34.7, 34.8, 34.9, 35. , 35.1, 35.2, 35.3, 35.4, 35.5,\n",
       "       35.6, 35.7, 35.8, 35.9, 36. , 36.1, 36.2, 36.3, 36.4, 36.5, 36.6,\n",
       "       36.7, 36.8, 36.9, 37. , 37.1, 37.2, 37.3, 37.4, 37.5, 37.6, 37.7,\n",
       "       37.8, 37.9, 38. , 38.1, 38.2, 38.3, 38.4, 38.5, 38.6, 38.7, 38.8,\n",
       "       38.9, 39. , 39.1, 39.2, 39.3, 39.4, 39.5, 39.6, 39.7, 39.8, 39.9,\n",
       "       40. , 40.1, 40.2, 40.5, 40.6, 40.7, 40.8, 40.9, 41. , 41.2, 41.3,\n",
       "       41.5, 41.8, 42. , 42.1, 42.2, 42.3, 42.4, 42.6, 42.7, 42.8, 42.9,\n",
       "       43.1, 43.2, 43.3, 43.4, 43.5, 43.6, 44. , 44.1, 44.2, 44.5, 44.6,\n",
       "       45. , 45.2, 45.3, 45.4, 45.5, 45.6, 45.7, 45.8, 46.1, 46.2, 46.3,\n",
       "       46.5, 46.7, 46.8, 47.9, 48.3, 48.8, 49.3, 49.6, 49.7, 50. , 52.3,\n",
       "       52.9, 53.2, 55. , 57.3, 59.4, 67.1])"
      ]
     },
     "execution_count": 105,
     "metadata": {},
     "output_type": "execute_result"
    }
   ],
   "source": [
    "#body mass index\n",
    "df_raw['BMI'].sort_values().unique()"
   ]
  },
  {
   "cell_type": "code",
   "execution_count": 106,
   "id": "87964f7a",
   "metadata": {
    "ExecuteTime": {
     "end_time": "2021-10-03T17:54:36.781349Z",
     "start_time": "2021-10-03T17:54:36.773372Z"
    }
   },
   "outputs": [
    {
     "data": {
      "text/plain": [
       "11"
      ]
     },
     "execution_count": 106,
     "metadata": {},
     "output_type": "execute_result"
    }
   ],
   "source": [
    "df_raw[df_raw['BMI'] == 0 ].shape[0]"
   ]
  },
  {
   "cell_type": "markdown",
   "id": "da30b977",
   "metadata": {
    "ExecuteTime": {
     "end_time": "2021-09-07T19:58:43.469649Z",
     "start_time": "2021-09-07T19:58:43.455657Z"
    }
   },
   "source": [
    "### Atributte 'DiabetesPedigreeFunction'"
   ]
  },
  {
   "cell_type": "code",
   "execution_count": 107,
   "id": "97aacb91",
   "metadata": {
    "ExecuteTime": {
     "end_time": "2021-10-03T17:54:38.523975Z",
     "start_time": "2021-10-03T17:54:38.513976Z"
    }
   },
   "outputs": [
    {
     "data": {
      "text/plain": [
       "array([0.627, 0.351, 0.672, 0.167, 2.288, 0.201, 0.248, 0.134, 0.158,\n",
       "       0.232, 0.191, 0.537, 1.441, 0.398, 0.587, 0.484, 0.551, 0.254,\n",
       "       0.183, 0.529, 0.704, 0.388, 0.451, 0.263, 0.205, 0.257, 0.487,\n",
       "       0.245, 0.337, 0.546, 0.851, 0.267, 0.188, 0.512, 0.966, 0.42 ,\n",
       "       0.665, 0.503, 1.39 , 0.271, 0.696, 0.235, 0.721, 0.294, 1.893,\n",
       "       0.564, 0.586, 0.344, 0.305, 0.491, 0.526, 0.342, 0.467, 0.718,\n",
       "       0.962, 1.781, 0.173, 0.304, 0.27 , 0.699, 0.258, 0.203, 0.855,\n",
       "       0.845, 0.334, 0.189, 0.867, 0.411, 0.583, 0.231, 0.396, 0.14 ,\n",
       "       0.391, 0.37 , 0.307, 0.102, 0.767, 0.237, 0.227, 0.698, 0.178,\n",
       "       0.324, 0.153, 0.165, 0.443, 0.261, 0.277, 0.761, 0.255, 0.13 ,\n",
       "       0.323, 0.356, 0.325, 1.222, 0.179, 0.262, 0.283, 0.93 , 0.801,\n",
       "       0.207, 0.287, 0.336, 0.247, 0.199, 0.543, 0.192, 0.588, 0.539,\n",
       "       0.22 , 0.654, 0.223, 0.759, 0.26 , 0.404, 0.186, 0.278, 0.496,\n",
       "       0.452, 0.403, 0.741, 0.361, 1.114, 0.457, 0.647, 0.088, 0.597,\n",
       "       0.532, 0.703, 0.159, 0.268, 0.286, 0.318, 0.272, 0.572, 0.096,\n",
       "       1.4  , 0.218, 0.085, 0.399, 0.432, 1.189, 0.687, 0.137, 0.637,\n",
       "       0.833, 0.229, 0.817, 0.204, 0.368, 0.743, 0.722, 0.256, 0.709,\n",
       "       0.471, 0.495, 0.18 , 0.542, 0.773, 0.678, 0.719, 0.382, 0.319,\n",
       "       0.19 , 0.956, 0.084, 0.725, 0.299, 0.244, 0.745, 0.615, 1.321,\n",
       "       0.64 , 0.142, 0.374, 0.383, 0.578, 0.136, 0.395, 0.187, 0.905,\n",
       "       0.15 , 0.874, 0.236, 0.787, 0.407, 0.605, 0.151, 0.289, 0.355,\n",
       "       0.29 , 0.375, 0.164, 0.431, 0.742, 0.514, 0.464, 1.224, 1.072,\n",
       "       0.805, 0.209, 0.666, 0.101, 0.198, 0.652, 2.329, 0.089, 0.645,\n",
       "       0.238, 0.394, 0.293, 0.479, 0.686, 0.831, 0.582, 0.446, 0.402,\n",
       "       1.318, 0.329, 1.213, 0.427, 0.282, 0.143, 0.38 , 0.284, 0.249,\n",
       "       0.926, 0.557, 0.092, 0.655, 1.353, 0.612, 0.2  , 0.226, 0.997,\n",
       "       0.933, 1.101, 0.078, 0.24 , 1.136, 0.128, 0.422, 0.251, 0.677,\n",
       "       0.296, 0.454, 0.744, 0.881, 0.28 , 0.259, 0.619, 0.808, 0.34 ,\n",
       "       0.434, 0.757, 0.613, 0.692, 0.52 , 0.412, 0.84 , 0.839, 0.156,\n",
       "       0.215, 0.326, 1.391, 0.875, 0.313, 0.433, 0.626, 1.127, 0.315,\n",
       "       0.345, 0.129, 0.527, 0.197, 0.731, 0.148, 0.123, 0.127, 0.122,\n",
       "       1.476, 0.166, 0.932, 0.343, 0.893, 0.331, 0.472, 0.673, 0.389,\n",
       "       0.485, 0.349, 0.279, 0.346, 0.252, 0.243, 0.58 , 0.559, 0.302,\n",
       "       0.569, 0.378, 0.385, 0.499, 0.306, 0.234, 2.137, 1.731, 0.545,\n",
       "       0.225, 0.816, 0.528, 0.509, 1.021, 0.821, 0.947, 1.268, 0.221,\n",
       "       0.66 , 0.239, 0.949, 0.444, 0.463, 0.803, 1.6  , 0.944, 0.196,\n",
       "       0.241, 0.161, 0.135, 0.376, 1.191, 0.702, 0.674, 1.076, 0.534,\n",
       "       1.095, 0.554, 0.624, 0.219, 0.507, 0.561, 0.421, 0.516, 0.264,\n",
       "       0.328, 0.233, 0.108, 1.138, 0.147, 0.727, 0.435, 0.497, 0.23 ,\n",
       "       0.955, 2.42 , 0.658, 0.33 , 0.51 , 0.285, 0.415, 0.381, 0.832,\n",
       "       0.498, 0.212, 0.364, 1.001, 0.46 , 0.733, 0.416, 0.705, 1.022,\n",
       "       0.269, 0.6  , 0.571, 0.607, 0.17 , 0.21 , 0.126, 0.711, 0.466,\n",
       "       0.162, 0.419, 0.63 , 0.365, 0.536, 1.159, 0.629, 0.292, 0.145,\n",
       "       1.144, 0.174, 0.547, 0.163, 0.738, 0.314, 0.968, 0.409, 0.297,\n",
       "       0.525, 0.154, 0.771, 0.107, 0.493, 0.717, 0.917, 0.501, 1.251,\n",
       "       0.735, 0.804, 0.661, 0.549, 0.825, 0.423, 1.034, 0.16 , 0.341,\n",
       "       0.68 , 0.591, 0.3  , 0.121, 0.502, 0.401, 0.601, 0.748, 0.338,\n",
       "       0.43 , 0.892, 0.813, 0.693, 0.575, 0.371, 0.206, 0.417, 1.154,\n",
       "       0.925, 0.175, 1.699, 0.682, 0.194, 0.4  , 0.1  , 1.258, 0.482,\n",
       "       0.138, 0.593, 0.878, 0.157, 1.282, 0.141, 0.246, 1.698, 1.461,\n",
       "       0.347, 0.362, 0.393, 0.144, 0.732, 0.115, 0.465, 0.649, 0.871,\n",
       "       0.149, 0.695, 0.303, 0.61 , 0.73 , 0.447, 0.455, 0.133, 0.155,\n",
       "       1.162, 1.292, 0.182, 1.394, 0.217, 0.631, 0.88 , 0.614, 0.332,\n",
       "       0.366, 0.181, 0.828, 0.335, 0.856, 0.886, 0.439, 0.253, 0.598,\n",
       "       0.904, 0.483, 0.565, 0.118, 0.177, 0.176, 0.295, 0.441, 0.352,\n",
       "       0.826, 0.97 , 0.595, 0.317, 0.265, 0.646, 0.426, 0.56 , 0.515,\n",
       "       0.453, 0.785, 0.734, 1.174, 0.488, 0.358, 1.096, 0.408, 1.182,\n",
       "       0.222, 1.057, 0.766, 0.171])"
      ]
     },
     "execution_count": 107,
     "metadata": {},
     "output_type": "execute_result"
    }
   ],
   "source": [
    "# A function which scores the likelihood of diabetes based on family history. \n",
    "# It provided some data on diabetes mellitus history in relatives and the genetic relationship of those relatives to the patient.\n",
    "df_raw['DiabetesPedigreeFunction'].unique()"
   ]
  },
  {
   "cell_type": "code",
   "execution_count": 108,
   "id": "1d237a8f",
   "metadata": {
    "ExecuteTime": {
     "end_time": "2021-10-03T17:54:39.718141Z",
     "start_time": "2021-10-03T17:54:39.436299Z"
    }
   },
   "outputs": [
    {
     "data": {
      "text/plain": [
       "<seaborn.axisgrid.FacetGrid at 0x22be95c2e80>"
      ]
     },
     "execution_count": 108,
     "metadata": {},
     "output_type": "execute_result"
    },
    {
     "data": {
      "image/png": "[encoded data removed]",
      "text/plain": [
       "<Figure size 360x360 with 1 Axes>"
      ]
     },
     "metadata": {},
     "output_type": "display_data"
    }
   ],
   "source": [
    "sns.displot(df_raw['DiabetesPedigreeFunction'])"
   ]
  },
  {
   "cell_type": "markdown",
   "id": "ff525152",
   "metadata": {
    "ExecuteTime": {
     "end_time": "2021-09-07T19:58:43.485672Z",
     "start_time": "2021-09-07T19:58:43.470615Z"
    }
   },
   "source": [
    "### Atributte 'Age'"
   ]
  },
  {
   "cell_type": "code",
   "execution_count": 109,
   "id": "7788738d",
   "metadata": {
    "ExecuteTime": {
     "end_time": "2021-10-03T17:55:16.216303Z",
     "start_time": "2021-10-03T17:55:16.195391Z"
    }
   },
   "outputs": [
    {
     "data": {
      "text/plain": [
       "array([21, 22, 23, 24, 25, 26, 27, 28, 29, 30, 31, 32, 33, 34, 35, 36, 37,\n",
       "       38, 39, 40, 41, 42, 43, 44, 45, 46, 47, 48, 49, 50, 51, 52, 53, 54,\n",
       "       55, 56, 57, 58, 59, 60, 61, 62, 63, 64, 65, 66, 67, 68, 69, 70, 72,\n",
       "       81], dtype=int64)"
      ]
     },
     "execution_count": 109,
     "metadata": {},
     "output_type": "execute_result"
    }
   ],
   "source": [
    "df_raw['Age'].sort_values().unique()"
   ]
  },
  {
   "cell_type": "markdown",
   "id": "07db2ce1",
   "metadata": {
    "ExecuteTime": {
     "end_time": "2021-09-07T19:58:43.501636Z",
     "start_time": "2021-09-07T19:58:43.489668Z"
    }
   },
   "source": [
    "### Atributte 'Outcome'"
   ]
  },
  {
   "cell_type": "code",
   "execution_count": 110,
   "id": "6164ae1d",
   "metadata": {
    "ExecuteTime": {
     "end_time": "2021-10-03T17:55:17.630025Z",
     "start_time": "2021-10-03T17:55:17.613123Z"
    }
   },
   "outputs": [
    {
     "data": {
      "text/plain": [
       "array([1, 0], dtype=int64)"
      ]
     },
     "execution_count": 110,
     "metadata": {},
     "output_type": "execute_result"
    }
   ],
   "source": [
    "df_raw['Outcome'].unique()"
   ]
  },
  {
   "cell_type": "markdown",
   "id": "cd7439f6",
   "metadata": {},
   "source": [
    "# Data Transform"
   ]
  },
  {
   "cell_type": "code",
   "execution_count": 111,
   "id": "fb2e8604",
   "metadata": {
    "ExecuteTime": {
     "end_time": "2021-10-03T17:55:19.968280Z",
     "start_time": "2021-10-03T17:55:19.956317Z"
    }
   },
   "outputs": [],
   "source": [
    "df3 = df_raw.copy()"
   ]
  },
  {
   "cell_type": "markdown",
   "id": "a09d7c01",
   "metadata": {
    "ExecuteTime": {
     "end_time": "2021-09-07T19:58:43.531637Z",
     "start_time": "2021-09-07T19:58:43.517897Z"
    }
   },
   "source": [
    "## Rename columns"
   ]
  },
  {
   "cell_type": "code",
   "execution_count": 112,
   "id": "cea2a321",
   "metadata": {
    "ExecuteTime": {
     "end_time": "2021-10-03T17:55:21.662026Z",
     "start_time": "2021-10-03T17:55:21.644069Z"
    }
   },
   "outputs": [],
   "source": [
    "new_cols =[ 'pregnancies', 'glucose', 'blood_press', 'skin_thick', 'insulin','bmi', 'diabetes_pedigree', 'age', 'outcome']\n",
    "df3.columns = new_cols"
   ]
  },
  {
   "cell_type": "markdown",
   "id": "09bd2007",
   "metadata": {},
   "source": [
    "## Check attribute \"Pregnancies\""
   ]
  },
  {
   "cell_type": "code",
   "execution_count": 113,
   "id": "5465144e",
   "metadata": {
    "ExecuteTime": {
     "end_time": "2021-10-03T17:55:31.577632Z",
     "start_time": "2021-10-03T17:55:31.324399Z"
    }
   },
   "outputs": [
    {
     "data": {
      "text/plain": [
       "<seaborn.axisgrid.FacetGrid at 0x22be8dd0af0>"
      ]
     },
     "execution_count": 113,
     "metadata": {},
     "output_type": "execute_result"
    },
    {
     "data": {
      "image/png": "[encoded data removed]",
      "text/plain": [
       "<Figure size 360x360 with 1 Axes>"
      ]
     },
     "metadata": {},
     "output_type": "display_data"
    }
   ],
   "source": [
    "# Check pregnancies distribuition:\n",
    "sns.displot(df3['pregnancies'])"
   ]
  },
  {
   "cell_type": "code",
   "execution_count": 24,
   "id": "e4d69142",
   "metadata": {
    "ExecuteTime": {
     "end_time": "2021-10-03T13:47:49.969061Z",
     "start_time": "2021-10-03T13:47:49.955097Z"
    }
   },
   "outputs": [
    {
     "data": {
      "text/plain": [
       "1     135\n",
       "0     111\n",
       "2     103\n",
       "3      75\n",
       "4      68\n",
       "5      57\n",
       "6      50\n",
       "7      45\n",
       "8      38\n",
       "9      28\n",
       "10     24\n",
       "11     11\n",
       "13     10\n",
       "12      9\n",
       "14      2\n",
       "15      1\n",
       "17      1\n",
       "Name: pregnancies, dtype: int64"
      ]
     },
     "execution_count": 24,
     "metadata": {},
     "output_type": "execute_result"
    }
   ],
   "source": [
    "df3['pregnancies'].value_counts()"
   ]
  },
  {
   "cell_type": "markdown",
   "id": "1f67c8dd",
   "metadata": {},
   "source": [
    "## Check Null register (hidden NaN values)"
   ]
  },
  {
   "cell_type": "markdown",
   "id": "4d695ad8",
   "metadata": {},
   "source": [
    "Glucose, Blood Pressure, Skin Thickness, Insulin and BMI have null registers. Check it."
   ]
  },
  {
   "cell_type": "markdown",
   "id": "b5d3cdb2",
   "metadata": {},
   "source": [
    "# Exploratory data analysis"
   ]
  },
  {
   "cell_type": "code",
   "execution_count": 25,
   "id": "7a230ce9",
   "metadata": {
    "ExecuteTime": {
     "end_time": "2021-10-03T13:47:49.985017Z",
     "start_time": "2021-10-03T13:47:49.971056Z"
    }
   },
   "outputs": [],
   "source": [
    "df4 = df3.copy()"
   ]
  },
  {
   "cell_type": "code",
   "execution_count": 26,
   "id": "1d46ab1c",
   "metadata": {
    "ExecuteTime": {
     "end_time": "2021-10-03T13:47:50.001011Z",
     "start_time": "2021-10-03T13:47:49.986015Z"
    }
   },
   "outputs": [],
   "source": [
    "num_true  = df4[df4['outcome'] == 1].shape[0]\n",
    "num_false = df4[df4['outcome'] == 0].shape[0]"
   ]
  },
  {
   "cell_type": "code",
   "execution_count": 27,
   "id": "0f91d29a",
   "metadata": {
    "ExecuteTime": {
     "end_time": "2021-10-03T13:47:50.016913Z",
     "start_time": "2021-10-03T13:47:50.004945Z"
    }
   },
   "outputs": [
    {
     "name": "stdout",
     "output_type": "stream",
     "text": [
      "The number of true cases in the dataset is 268\n",
      "The number of false cases in the dataset is 500\n"
     ]
    }
   ],
   "source": [
    "print ('The number of true cases in the dataset is {}'.format(num_true))\n",
    "print ('The number of false cases in the dataset is {}'.format(num_false))"
   ]
  },
  {
   "cell_type": "markdown",
   "id": "b8b2f9ae",
   "metadata": {
    "ExecuteTime": {
     "end_time": "2021-09-11T00:06:28.466610Z",
     "start_time": "2021-09-11T00:06:28.466610Z"
    }
   },
   "source": [
    "Its a good practice keep this proportion in the testing and training of ML models"
   ]
  },
  {
   "cell_type": "markdown",
   "id": "1a0ca481",
   "metadata": {},
   "source": [
    "## Univariated analysis"
   ]
  },
  {
   "cell_type": "code",
   "execution_count": 28,
   "id": "7cf3e86e",
   "metadata": {
    "ExecuteTime": {
     "end_time": "2021-10-03T13:47:50.032870Z",
     "start_time": "2021-10-03T13:47:50.019905Z"
    }
   },
   "outputs": [],
   "source": [
    "#central tendency statistics - mean, median\n",
    "ct_mean   = pd.DataFrame ( df4.apply (np.mean   ) ).T\n",
    "ct_median = pd.DataFrame ( df4.apply (np.median ) ).T"
   ]
  },
  {
   "cell_type": "code",
   "execution_count": 29,
   "id": "169658f4",
   "metadata": {
    "ExecuteTime": {
     "end_time": "2021-10-03T13:47:50.110664Z",
     "start_time": "2021-10-03T13:47:50.035862Z"
    }
   },
   "outputs": [],
   "source": [
    "# dispersion statistics - standard deviation, minimum, maximum, range, skew, kurtosis\n",
    "d_std      = pd.DataFrame ( df4.apply (np.std) ).T\n",
    "d_min      = pd.DataFrame ( df4.apply (np.min) ).T\n",
    "d_max      = pd.DataFrame ( df4.apply (np.max) ).T\n",
    "d_range    = pd.DataFrame ( df4.apply ( lambda x: x.max() - x.min())).T\n",
    "d_skew     = pd.DataFrame ( df4.apply ( lambda x: x.skew() ) ).T\n",
    "d_kurtosis = pd.DataFrame ( df4.apply ( lambda x: x.kurtosis() ) ).T"
   ]
  },
  {
   "cell_type": "code",
   "execution_count": 30,
   "id": "c1ce4cf2",
   "metadata": {
    "ExecuteTime": {
     "end_time": "2021-10-03T13:47:50.126620Z",
     "start_time": "2021-10-03T13:47:50.112657Z"
    }
   },
   "outputs": [
    {
     "data": {
      "text/html": [
       "<div>\n",
       "<style scoped>\n",
       "    .dataframe tbody tr th:only-of-type {\n",
       "        vertical-align: middle;\n",
       "    }\n",
       "\n",
       "    .dataframe tbody tr th {\n",
       "        vertical-align: top;\n",
       "    }\n",
       "\n",
       "    .dataframe thead th {\n",
       "        text-align: right;\n",
       "    }\n",
       "</style>\n",
       "<table border=\"1\" class=\"dataframe\">\n",
       "  <thead>\n",
       "    <tr style=\"text-align: right;\">\n",
       "      <th></th>\n",
       "      <th>attributes</th>\n",
       "      <th>min.</th>\n",
       "      <th>max</th>\n",
       "      <th>range</th>\n",
       "      <th>mean</th>\n",
       "      <th>median</th>\n",
       "      <th>std</th>\n",
       "      <th>skew</th>\n",
       "      <th>kurtosis</th>\n",
       "    </tr>\n",
       "  </thead>\n",
       "  <tbody>\n",
       "    <tr>\n",
       "      <th>0</th>\n",
       "      <td>pregnancies</td>\n",
       "      <td>0.00</td>\n",
       "      <td>17.00</td>\n",
       "      <td>17.00</td>\n",
       "      <td>3.85</td>\n",
       "      <td>3.00</td>\n",
       "      <td>3.37</td>\n",
       "      <td>0.90</td>\n",
       "      <td>0.16</td>\n",
       "    </tr>\n",
       "    <tr>\n",
       "      <th>1</th>\n",
       "      <td>glucose</td>\n",
       "      <td>0.00</td>\n",
       "      <td>199.00</td>\n",
       "      <td>199.00</td>\n",
       "      <td>120.89</td>\n",
       "      <td>117.00</td>\n",
       "      <td>31.95</td>\n",
       "      <td>0.17</td>\n",
       "      <td>0.64</td>\n",
       "    </tr>\n",
       "    <tr>\n",
       "      <th>2</th>\n",
       "      <td>blood_press</td>\n",
       "      <td>0.00</td>\n",
       "      <td>122.00</td>\n",
       "      <td>122.00</td>\n",
       "      <td>69.11</td>\n",
       "      <td>72.00</td>\n",
       "      <td>19.34</td>\n",
       "      <td>-1.84</td>\n",
       "      <td>5.18</td>\n",
       "    </tr>\n",
       "    <tr>\n",
       "      <th>3</th>\n",
       "      <td>skin_thick</td>\n",
       "      <td>0.00</td>\n",
       "      <td>99.00</td>\n",
       "      <td>99.00</td>\n",
       "      <td>20.54</td>\n",
       "      <td>23.00</td>\n",
       "      <td>15.94</td>\n",
       "      <td>0.11</td>\n",
       "      <td>-0.52</td>\n",
       "    </tr>\n",
       "    <tr>\n",
       "      <th>4</th>\n",
       "      <td>insulin</td>\n",
       "      <td>0.00</td>\n",
       "      <td>846.00</td>\n",
       "      <td>846.00</td>\n",
       "      <td>79.80</td>\n",
       "      <td>30.50</td>\n",
       "      <td>115.17</td>\n",
       "      <td>2.27</td>\n",
       "      <td>7.21</td>\n",
       "    </tr>\n",
       "    <tr>\n",
       "      <th>5</th>\n",
       "      <td>bmi</td>\n",
       "      <td>0.00</td>\n",
       "      <td>67.10</td>\n",
       "      <td>67.10</td>\n",
       "      <td>31.99</td>\n",
       "      <td>32.00</td>\n",
       "      <td>7.88</td>\n",
       "      <td>-0.43</td>\n",
       "      <td>3.29</td>\n",
       "    </tr>\n",
       "    <tr>\n",
       "      <th>6</th>\n",
       "      <td>diabetes_pedigree</td>\n",
       "      <td>0.08</td>\n",
       "      <td>2.42</td>\n",
       "      <td>2.34</td>\n",
       "      <td>0.47</td>\n",
       "      <td>0.37</td>\n",
       "      <td>0.33</td>\n",
       "      <td>1.92</td>\n",
       "      <td>5.59</td>\n",
       "    </tr>\n",
       "    <tr>\n",
       "      <th>7</th>\n",
       "      <td>age</td>\n",
       "      <td>21.00</td>\n",
       "      <td>81.00</td>\n",
       "      <td>60.00</td>\n",
       "      <td>33.24</td>\n",
       "      <td>29.00</td>\n",
       "      <td>11.75</td>\n",
       "      <td>1.13</td>\n",
       "      <td>0.64</td>\n",
       "    </tr>\n",
       "    <tr>\n",
       "      <th>8</th>\n",
       "      <td>outcome</td>\n",
       "      <td>0.00</td>\n",
       "      <td>1.00</td>\n",
       "      <td>1.00</td>\n",
       "      <td>0.35</td>\n",
       "      <td>0.00</td>\n",
       "      <td>0.48</td>\n",
       "      <td>0.64</td>\n",
       "      <td>-1.60</td>\n",
       "    </tr>\n",
       "  </tbody>\n",
       "</table>\n",
       "</div>"
      ],
      "text/plain": [
       "          attributes  min.    max  range   mean  median    std  skew  kurtosis\n",
       "0        pregnancies  0.00  17.00  17.00   3.85    3.00   3.37  0.90      0.16\n",
       "1            glucose  0.00 199.00 199.00 120.89  117.00  31.95  0.17      0.64\n",
       "2        blood_press  0.00 122.00 122.00  69.11   72.00  19.34 -1.84      5.18\n",
       "3         skin_thick  0.00  99.00  99.00  20.54   23.00  15.94  0.11     -0.52\n",
       "4            insulin  0.00 846.00 846.00  79.80   30.50 115.17  2.27      7.21\n",
       "5                bmi  0.00  67.10  67.10  31.99   32.00   7.88 -0.43      3.29\n",
       "6  diabetes_pedigree  0.08   2.42   2.34   0.47    0.37   0.33  1.92      5.59\n",
       "7                age 21.00  81.00  60.00  33.24   29.00  11.75  1.13      0.64\n",
       "8            outcome  0.00   1.00   1.00   0.35    0.00   0.48  0.64     -1.60"
      ]
     },
     "execution_count": 30,
     "metadata": {},
     "output_type": "execute_result"
    }
   ],
   "source": [
    "#concatenate\n",
    "df_metrics = pd.concat ([d_min,d_max,d_range,ct_mean,ct_median,d_std,d_skew,d_kurtosis]).T.reset_index()\n",
    "df_metrics.columns = ['attributes', 'min.','max','range', 'mean', 'median', 'std', 'skew', 'kurtosis']\n",
    "df_metrics"
   ]
  },
  {
   "cell_type": "markdown",
   "id": "2b80539c",
   "metadata": {},
   "source": [
    "## Multivariated analysis"
   ]
  },
  {
   "cell_type": "code",
   "execution_count": 31,
   "id": "74a8b3d1",
   "metadata": {
    "ExecuteTime": {
     "end_time": "2021-10-03T13:47:50.871497Z",
     "start_time": "2021-10-03T13:47:50.127617Z"
    }
   },
   "outputs": [
    {
     "data": {
      "image/png": "[encoded data removed]",
      "text/plain": [
       "<Figure size 1800x864 with 2 Axes>"
      ]
     },
     "metadata": {},
     "output_type": "display_data"
    }
   ],
   "source": [
    "sns.heatmap(df4.corr(), annot=True, vmin = -1, vmax=1, cmap= 'coolwarm')\n",
    "plt.title('\\nHEATMAP OF CORRELATIONS AMONG THE MAIN ATTRIBUTES\\n')\n",
    "plt.savefig(r'../reports/figures/corr_heatmap.png')"
   ]
  },
  {
   "cell_type": "markdown",
   "id": "6fa3d12b",
   "metadata": {
    "ExecuteTime": {
     "end_time": "2021-09-11T00:17:40.365169Z",
     "start_time": "2021-09-11T00:17:40.354167Z"
    }
   },
   "source": [
    "# ML setup"
   ]
  },
  {
   "cell_type": "code",
   "execution_count": 32,
   "id": "9d2077b8",
   "metadata": {
    "ExecuteTime": {
     "end_time": "2021-10-03T13:47:50.887447Z",
     "start_time": "2021-10-03T13:47:50.872461Z"
    }
   },
   "outputs": [],
   "source": [
    "df5 = df4.copy()"
   ]
  },
  {
   "cell_type": "markdown",
   "id": "8ef59600",
   "metadata": {
    "ExecuteTime": {
     "end_time": "2021-09-07T21:16:21.331888Z",
     "start_time": "2021-09-07T21:16:21.325905Z"
    }
   },
   "source": [
    "## Feature selection"
   ]
  },
  {
   "cell_type": "code",
   "execution_count": 33,
   "id": "de8b0343",
   "metadata": {
    "ExecuteTime": {
     "end_time": "2021-10-03T13:47:50.902535Z",
     "start_time": "2021-10-03T13:47:50.888420Z"
    }
   },
   "outputs": [],
   "source": [
    "attributes = ['pregnancies', 'glucose', 'blood_press', 'skin_thick', 'insulin', 'bmi', 'diabetes_pedigree', 'age']\n",
    "output_attribute = ['outcome']"
   ]
  },
  {
   "cell_type": "code",
   "execution_count": 34,
   "id": "5fa214f5",
   "metadata": {
    "ExecuteTime": {
     "end_time": "2021-10-03T13:47:50.917869Z",
     "start_time": "2021-10-03T13:47:50.903374Z"
    }
   },
   "outputs": [],
   "source": [
    "X = df5[attributes].values\n",
    "Y = df5[output_attribute].values"
   ]
  },
  {
   "cell_type": "markdown",
   "id": "19fb801c",
   "metadata": {
    "ExecuteTime": {
     "end_time": "2021-09-07T21:16:28.625013Z",
     "start_time": "2021-09-07T21:16:28.607062Z"
    }
   },
   "source": [
    "## Splitting dataframe"
   ]
  },
  {
   "cell_type": "code",
   "execution_count": 35,
   "id": "0f4c6495",
   "metadata": {
    "ExecuteTime": {
     "end_time": "2021-10-03T13:47:50.933729Z",
     "start_time": "2021-10-03T13:47:50.919729Z"
    }
   },
   "outputs": [],
   "source": [
    "split_test_size = 0.30"
   ]
  },
  {
   "cell_type": "code",
   "execution_count": 36,
   "id": "2eed3059",
   "metadata": {
    "ExecuteTime": {
     "end_time": "2021-10-03T13:47:50.949665Z",
     "start_time": "2021-10-03T13:47:50.935686Z"
    }
   },
   "outputs": [],
   "source": [
    "X_train, X_test, Y_train, Y_test = train_test_split ( X, Y, test_size = split_test_size , random_state = 42)"
   ]
  },
  {
   "cell_type": "code",
   "execution_count": 37,
   "id": "1caeb871",
   "metadata": {
    "ExecuteTime": {
     "end_time": "2021-10-03T13:47:50.965407Z",
     "start_time": "2021-10-03T13:47:50.951445Z"
    }
   },
   "outputs": [
    {
     "name": "stdout",
     "output_type": "stream",
     "text": [
      "69.92 % of data for train\n",
      "30.08 % of data for test\n"
     ]
    }
   ],
   "source": [
    "print ('{:.2F} % of data for train'. format ( ( len(X_train) / df5.shape[0] ) * 100 ) )\n",
    "print ('{:.2F} % of data for test'.  format ( ( len(X_test ) / df5.shape[0] ) * 100 ) )"
   ]
  },
  {
   "cell_type": "markdown",
   "id": "ff0cf791",
   "metadata": {
    "ExecuteTime": {
     "end_time": "2021-10-03T14:45:37.044843Z",
     "start_time": "2021-10-03T14:45:37.040821Z"
    }
   },
   "source": [
    "## Full hidden NaN values with the mean values"
   ]
  },
  {
   "cell_type": "code",
   "execution_count": 38,
   "id": "6cc7cd94",
   "metadata": {
    "ExecuteTime": {
     "end_time": "2021-10-03T13:47:50.980369Z",
     "start_time": "2021-10-03T13:47:50.967403Z"
    }
   },
   "outputs": [],
   "source": [
    "full_zeros = SimpleImputer (missing_values = 0, strategy = 'mean')\n",
    "X_train = full_zeros.fit_transform(X_train)\n",
    "X_test = full_zeros.fit_transform(X_test)"
   ]
  },
  {
   "cell_type": "markdown",
   "id": "2f8da670",
   "metadata": {},
   "source": [
    "# Machine Learning models application"
   ]
  },
  {
   "cell_type": "markdown",
   "id": "ad142510",
   "metadata": {},
   "source": [
    "## Gaussian Naive Bayes"
   ]
  },
  {
   "cell_type": "code",
   "execution_count": 57,
   "id": "d9ae1e15",
   "metadata": {
    "ExecuteTime": {
     "end_time": "2021-10-03T14:58:15.856538Z",
     "start_time": "2021-10-03T14:58:15.838553Z"
    }
   },
   "outputs": [],
   "source": [
    "model_v1 = GaussianNB() # create an object of classification algorithm"
   ]
  },
  {
   "cell_type": "code",
   "execution_count": 58,
   "id": "dc0367ce",
   "metadata": {
    "ExecuteTime": {
     "end_time": "2021-10-03T14:58:16.555519Z",
     "start_time": "2021-10-03T14:58:16.533578Z"
    }
   },
   "outputs": [
    {
     "data": {
      "text/plain": [
       "GaussianNB()"
      ]
     },
     "execution_count": 58,
     "metadata": {},
     "output_type": "execute_result"
    }
   ],
   "source": [
    "# training model \n",
    "model_v1.fit(X_train , Y_train.ravel()) # ravel to adjust the shape"
   ]
  },
  {
   "cell_type": "markdown",
   "id": "1fe94e42",
   "metadata": {
    "ExecuteTime": {
     "end_time": "2021-09-08T22:26:27.691267Z",
     "start_time": "2021-09-08T22:26:27.677271Z"
    }
   },
   "source": [
    "### Checking the accuracy"
   ]
  },
  {
   "cell_type": "code",
   "execution_count": 60,
   "id": "c3b3ac41",
   "metadata": {
    "ExecuteTime": {
     "end_time": "2021-10-03T15:06:17.569746Z",
     "start_time": "2021-10-03T15:06:17.549767Z"
    }
   },
   "outputs": [
    {
     "name": "stdout",
     "output_type": "stream",
     "text": [
      "Accuracy (test): 0.7359\n"
     ]
    }
   ],
   "source": [
    "nb_predict_test = model_v1.predict(X_test)\n",
    "print('Accuracy (test): {:.4f}'.format(metrics.accuracy_score(Y_test, nb_predict_test  )))"
   ]
  },
  {
   "cell_type": "code",
   "execution_count": 61,
   "id": "fdb24e5d",
   "metadata": {
    "ExecuteTime": {
     "end_time": "2021-10-03T15:06:21.968736Z",
     "start_time": "2021-10-03T15:06:21.949751Z"
    }
   },
   "outputs": [
    {
     "name": "stdout",
     "output_type": "stream",
     "text": [
      "Confusion Matrix\n",
      "[[ 52  28]\n",
      " [ 33 118]]\n"
     ]
    }
   ],
   "source": [
    "# confusion matrix\n",
    "print('Confusion Matrix')\n",
    "print ('{0}'.format(metrics.confusion_matrix (Y_test, nb_predict_test, labels = [1,0])))"
   ]
  },
  {
   "cell_type": "code",
   "execution_count": 62,
   "id": "2038da59",
   "metadata": {
    "ExecuteTime": {
     "end_time": "2021-10-03T15:06:24.694758Z",
     "start_time": "2021-10-03T15:06:24.677804Z"
    }
   },
   "outputs": [
    {
     "name": "stdout",
     "output_type": "stream",
     "text": [
      "Classification Report\n",
      "              precision    recall  f1-score   support\n",
      "\n",
      "           1       0.61      0.65      0.63        80\n",
      "           0       0.81      0.78      0.79       151\n",
      "\n",
      "    accuracy                           0.74       231\n",
      "   macro avg       0.71      0.72      0.71       231\n",
      "weighted avg       0.74      0.74      0.74       231\n",
      "\n"
     ]
    }
   ],
   "source": [
    "print('Classification Report')\n",
    "print(metrics.classification_report(Y_test, nb_predict_test, labels = [1,0]))"
   ]
  },
  {
   "cell_type": "markdown",
   "id": "ba3248b4",
   "metadata": {
    "ExecuteTime": {
     "end_time": "2021-09-08T22:26:27.818689Z",
     "start_time": "2021-09-08T22:26:27.803687Z"
    }
   },
   "source": [
    "## Random Forest"
   ]
  },
  {
   "cell_type": "code",
   "execution_count": 68,
   "id": "890c07b3",
   "metadata": {
    "ExecuteTime": {
     "end_time": "2021-10-03T15:49:56.834056Z",
     "start_time": "2021-10-03T15:49:55.537273Z"
    }
   },
   "outputs": [
    {
     "data": {
      "text/plain": [
       "RandomForestClassifier(n_estimators=1000, random_state=42)"
      ]
     },
     "execution_count": 68,
     "metadata": {},
     "output_type": "execute_result"
    }
   ],
   "source": [
    "model_v2 = RandomForestClassifier (n_estimators=1000,random_state = 42)\n",
    "model_v2.fit (X_train , Y_train.ravel())"
   ]
  },
  {
   "cell_type": "code",
   "execution_count": 69,
   "id": "be204bf2",
   "metadata": {
    "ExecuteTime": {
     "end_time": "2021-10-03T15:49:58.086169Z",
     "start_time": "2021-10-03T15:49:57.974445Z"
    }
   },
   "outputs": [
    {
     "name": "stdout",
     "output_type": "stream",
     "text": [
      "Accuracy (test): 0.7662\n"
     ]
    }
   ],
   "source": [
    "rf_predict_test  = model_v2.predict(X_test)\n",
    "print('Accuracy (test): {:.4f}' .format(metrics.accuracy_score(Y_test, rf_predict_test)))"
   ]
  },
  {
   "cell_type": "code",
   "execution_count": 74,
   "id": "95e881ec",
   "metadata": {
    "ExecuteTime": {
     "end_time": "2021-10-03T15:58:58.961098Z",
     "start_time": "2021-10-03T15:58:58.950127Z"
    }
   },
   "outputs": [
    {
     "name": "stdout",
     "output_type": "stream",
     "text": [
      "Confusion Matrix\n",
      "[[ 54  26]\n",
      " [ 28 123]]\n"
     ]
    }
   ],
   "source": [
    "# confusion matrix\n",
    "print('Confusion Matrix')\n",
    "print ('{0}'.format(metrics.confusion_matrix (Y_test, rf_predict_test, labels = [1,0])))"
   ]
  },
  {
   "cell_type": "markdown",
   "id": "6367aae6",
   "metadata": {},
   "source": [
    "### Checking the accuracy"
   ]
  },
  {
   "cell_type": "code",
   "execution_count": 75,
   "id": "ffe8a099",
   "metadata": {
    "ExecuteTime": {
     "end_time": "2021-10-03T15:59:00.316389Z",
     "start_time": "2021-10-03T15:59:00.302361Z"
    }
   },
   "outputs": [
    {
     "name": "stdout",
     "output_type": "stream",
     "text": [
      "Classification Report\n",
      "              precision    recall  f1-score   support\n",
      "\n",
      "           1       0.66      0.68      0.67        80\n",
      "           0       0.83      0.81      0.82       151\n",
      "\n",
      "    accuracy                           0.77       231\n",
      "   macro avg       0.74      0.74      0.74       231\n",
      "weighted avg       0.77      0.77      0.77       231\n",
      "\n"
     ]
    }
   ],
   "source": [
    "print('Classification Report')\n",
    "print(metrics.classification_report(Y_test, rf_predict_test, labels = [1,0]))"
   ]
  },
  {
   "cell_type": "markdown",
   "id": "8b721510",
   "metadata": {
    "ExecuteTime": {
     "end_time": "2021-09-08T22:32:45.610320Z",
     "start_time": "2021-09-08T22:32:45.594363Z"
    }
   },
   "source": [
    "## Logistic Regression"
   ]
  },
  {
   "cell_type": "code",
   "execution_count": 94,
   "id": "040ea4ca",
   "metadata": {
    "ExecuteTime": {
     "end_time": "2021-10-03T17:46:14.755077Z",
     "start_time": "2021-10-03T17:46:14.703218Z"
    }
   },
   "outputs": [],
   "source": [
    "model_v3 = LogisticRegression( C= 0.7 , random_state =  42, max_iter = 200)\n",
    "model_v3.fit ( X_train, Y_train.ravel())\n",
    "lr_predict_test = model_v3.predict(X_test)"
   ]
  },
  {
   "cell_type": "markdown",
   "id": "5e84f7cf",
   "metadata": {},
   "source": [
    "### Checking the accuracy"
   ]
  },
  {
   "cell_type": "code",
   "execution_count": 95,
   "id": "ca2a3107",
   "metadata": {
    "ExecuteTime": {
     "end_time": "2021-10-03T17:46:17.476172Z",
     "start_time": "2021-10-03T17:46:17.462177Z"
    }
   },
   "outputs": [
    {
     "name": "stdout",
     "output_type": "stream",
     "text": [
      "Accuracy: 0.7359\n"
     ]
    }
   ],
   "source": [
    "print('Accuracy: {:.4f}'.format(metrics.accuracy_score(Y_test, lr_predict_test)))"
   ]
  },
  {
   "cell_type": "code",
   "execution_count": 96,
   "id": "90fb16d0",
   "metadata": {
    "ExecuteTime": {
     "end_time": "2021-10-03T17:46:19.563935Z",
     "start_time": "2021-10-03T17:46:19.549972Z"
    }
   },
   "outputs": [
    {
     "name": "stdout",
     "output_type": "stream",
     "text": [
      "Classification Report\n",
      "              precision    recall  f1-score   support\n",
      "\n",
      "           1       0.63      0.59      0.61        80\n",
      "           0       0.79      0.81      0.80       151\n",
      "\n",
      "    accuracy                           0.74       231\n",
      "   macro avg       0.71      0.70      0.70       231\n",
      "weighted avg       0.73      0.74      0.73       231\n",
      "\n"
     ]
    }
   ],
   "source": [
    "print('Classification Report')\n",
    "print(metrics.classification_report(Y_test, lr_predict_test, labels = [1,0]))"
   ]
  },
  {
   "cell_type": "markdown",
   "id": "ca235db9",
   "metadata": {
    "ExecuteTime": {
     "end_time": "2021-10-03T16:03:28.631674Z",
     "start_time": "2021-10-03T16:03:28.627721Z"
    }
   },
   "source": [
    "## Comparing the models"
   ]
  },
  {
   "cell_type": "code",
   "execution_count": 82,
   "id": "6979c3b3",
   "metadata": {
    "ExecuteTime": {
     "end_time": "2021-10-03T17:31:08.357572Z",
     "start_time": "2021-10-03T17:31:08.351601Z"
    }
   },
   "outputs": [
    {
     "name": "stdout",
     "output_type": "stream",
     "text": [
      "Gaussian Naive Beyes Accuracy : 0.7359\n",
      "Random Forest Accuracy : 0.7662\n",
      "Logistic Regression Accuracy : 0.7489\n"
     ]
    }
   ],
   "source": [
    "print('Gaussian Naive Beyes Accuracy : {:.4f}'.format(metrics.accuracy_score(Y_test, nb_predict_test  )))\n",
    "print('Random Forest Accuracy : {:.4f}'.format(metrics.accuracy_score(Y_test, rf_predict_test  )))\n",
    "print('Logistic Regression Accuracy : {:.4f}'.format(metrics.accuracy_score(Y_test, lr_predict_test  )))"
   ]
  },
  {
   "cell_type": "markdown",
   "id": "c0f03ded",
   "metadata": {
    "ExecuteTime": {
     "end_time": "2021-10-03T17:35:05.520327Z",
     "start_time": "2021-10-03T17:35:05.503372Z"
    }
   },
   "source": [
    "## Saving the trained model"
   ]
  },
  {
   "cell_type": "code",
   "execution_count": 51,
   "id": "d97d6ec1",
   "metadata": {
    "ExecuteTime": {
     "end_time": "2021-10-03T13:47:51.371368Z",
     "start_time": "2021-10-03T13:47:51.357406Z"
    }
   },
   "outputs": [],
   "source": [
    "filename = r'..\\models\\training_model_v2.sav' # choosing the Random Forest model\n",
    "pickle.dump (model_v2, open(filename, 'wb'))"
   ]
  },
  {
   "cell_type": "markdown",
   "id": "5c322c31",
   "metadata": {},
   "source": [
    "# Predictions using the model"
   ]
  },
  {
   "cell_type": "code",
   "execution_count": 86,
   "id": "b74b456e",
   "metadata": {
    "ExecuteTime": {
     "end_time": "2021-10-03T17:39:16.883293Z",
     "start_time": "2021-10-03T17:39:16.878279Z"
    }
   },
   "outputs": [
    {
     "name": "stdout",
     "output_type": "stream",
     "text": [
      "[0]\n",
      "[1]\n"
     ]
    }
   ],
   "source": [
    "load_model = pickle.load(open(filename, 'rb'))\n",
    "sample_1 = load_model.predict(X_test[15].reshape(1,-1))\n",
    "sample_2 = load_model.predict(X_test[18].reshape(1,-1))\n",
    "print(sample_1)\n",
    "print(sample_2)"
   ]
  },
  {
   "cell_type": "code",
   "execution_count": null,
   "id": "ab3e534c",
   "metadata": {},
   "outputs": [],
   "source": []
  }
 ],
 "metadata": {
  "kernelspec": {
   "display_name": "Python 3 (ipykernel)",
   "language": "python",
   "name": "python3"
  },
  "language_info": {
   "codemirror_mode": {
    "name": "ipython",
    "version": 3
   },
   "file_extension": ".py",
   "mimetype": "text/x-python",
   "name": "python",
   "nbconvert_exporter": "python",
   "pygments_lexer": "ipython3",
   "version": "3.8.11"
  },
  "toc": {
   "base_numbering": "0",
   "nav_menu": {},
   "number_sections": true,
   "sideBar": true,
   "skip_h1_title": false,
   "title_cell": "Table of Contents",
   "title_sidebar": "Contents",
   "toc_cell": false,
   "toc_position": {},
   "toc_section_display": true,
   "toc_window_display": false
  }
 },
 "nbformat": 4,
 "nbformat_minor": 5
}
