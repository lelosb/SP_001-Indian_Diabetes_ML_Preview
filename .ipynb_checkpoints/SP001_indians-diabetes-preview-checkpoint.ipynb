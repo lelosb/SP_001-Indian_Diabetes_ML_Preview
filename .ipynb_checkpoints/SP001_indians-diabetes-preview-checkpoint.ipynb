{
 "cells": [
  {
   "cell_type": "markdown",
   "id": "72695d13",
   "metadata": {},
   "source": [
    "Objetivo: Prever a ocorrência de diabetes baseado em dados\n",
    "    Etapas do processo de Machine Learning:\n",
    "        Business Problem\n",
    "        Prever a ocorrência de diabetes com um modelo com 70% ou mais de acurácia\n",
    "        Preparação dos Dados\n",
    "        Seleção do algoritimo\n",
    "        Treinamento do Modelo \n",
    "        Teste e avaliação do modelo"
   ]
  },
  {
   "cell_type": "code",
   "execution_count": null,
   "id": "2fd0f417",
   "metadata": {},
   "outputs": [],
   "source": [
    "imports pandas as pd\n",
    "import matplotlib.pyplot as plt\n",
    "import numpy as np\n",
    "%matplotlib inline # para criar os gráficos dentro do notebook\n"
   ]
  },
  {
   "cell_type": "code",
   "execution_count": null,
   "id": "29f33722",
   "metadata": {},
   "outputs": [],
   "source": []
  }
 ],
 "metadata": {
  "kernelspec": {
   "display_name": "Python 3",
   "language": "python",
   "name": "python3"
  },
  "language_info": {
   "codemirror_mode": {
    "name": "ipython",
    "version": 3
   },
   "file_extension": ".py",
   "mimetype": "text/x-python",
   "name": "python",
   "nbconvert_exporter": "python",
   "pygments_lexer": "ipython3",
   "version": "3.8.8"
  },
  "toc": {
   "base_numbering": 1,
   "nav_menu": {},
   "number_sections": true,
   "sideBar": true,
   "skip_h1_title": false,
   "title_cell": "Table of Contents",
   "title_sidebar": "Contents",
   "toc_cell": false,
   "toc_position": {},
   "toc_section_display": true,
   "toc_window_display": false
  }
 },
 "nbformat": 4,
 "nbformat_minor": 5
}
